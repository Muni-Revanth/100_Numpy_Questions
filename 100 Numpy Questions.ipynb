{
 "cells": [
  {
   "cell_type": "markdown",
   "id": "755bd506",
   "metadata": {},
   "source": [
    "#### 1. Import the numpy package under the name np (★☆☆)"
   ]
  },
  {
   "cell_type": "code",
   "execution_count": 1,
   "id": "7ccddf48",
   "metadata": {},
   "outputs": [],
   "source": [
    "import numpy as np"
   ]
  },
  {
   "cell_type": "markdown",
   "id": "77d797dc",
   "metadata": {},
   "source": [
    "#### 2. Print the numpy version and the configuration (★☆☆) "
   ]
  },
  {
   "cell_type": "code",
   "execution_count": 2,
   "id": "3eeee54f",
   "metadata": {},
   "outputs": [
    {
     "data": {
      "text/plain": [
       "'1.23.4'"
      ]
     },
     "execution_count": 2,
     "metadata": {},
     "output_type": "execute_result"
    }
   ],
   "source": [
    "np.__version__"
   ]
  },
  {
   "cell_type": "code",
   "execution_count": 3,
   "id": "9574b031",
   "metadata": {},
   "outputs": [
    {
     "name": "stdout",
     "output_type": "stream",
     "text": [
      "openblas64__info:\n",
      "    library_dirs = ['D:\\\\a\\\\numpy\\\\numpy\\\\build\\\\openblas64__info']\n",
      "    libraries = ['openblas64__info']\n",
      "    language = f77\n",
      "    define_macros = [('HAVE_CBLAS', None), ('BLAS_SYMBOL_SUFFIX', '64_'), ('HAVE_BLAS_ILP64', None)]\n",
      "blas_ilp64_opt_info:\n",
      "    library_dirs = ['D:\\\\a\\\\numpy\\\\numpy\\\\build\\\\openblas64__info']\n",
      "    libraries = ['openblas64__info']\n",
      "    language = f77\n",
      "    define_macros = [('HAVE_CBLAS', None), ('BLAS_SYMBOL_SUFFIX', '64_'), ('HAVE_BLAS_ILP64', None)]\n",
      "openblas64__lapack_info:\n",
      "    library_dirs = ['D:\\\\a\\\\numpy\\\\numpy\\\\build\\\\openblas64__lapack_info']\n",
      "    libraries = ['openblas64__lapack_info']\n",
      "    language = f77\n",
      "    define_macros = [('HAVE_CBLAS', None), ('BLAS_SYMBOL_SUFFIX', '64_'), ('HAVE_BLAS_ILP64', None), ('HAVE_LAPACKE', None)]\n",
      "lapack_ilp64_opt_info:\n",
      "    library_dirs = ['D:\\\\a\\\\numpy\\\\numpy\\\\build\\\\openblas64__lapack_info']\n",
      "    libraries = ['openblas64__lapack_info']\n",
      "    language = f77\n",
      "    define_macros = [('HAVE_CBLAS', None), ('BLAS_SYMBOL_SUFFIX', '64_'), ('HAVE_BLAS_ILP64', None), ('HAVE_LAPACKE', None)]\n",
      "Supported SIMD extensions in this NumPy install:\n",
      "    baseline = SSE,SSE2,SSE3\n",
      "    found = SSSE3,SSE41,POPCNT,SSE42,AVX,F16C,FMA3,AVX2,AVX512F,AVX512CD,AVX512_SKX,AVX512_CLX,AVX512_CNL,AVX512_ICL\n",
      "    not found = \n"
     ]
    }
   ],
   "source": [
    "np.show_config()"
   ]
  },
  {
   "cell_type": "markdown",
   "id": "ae48b14b",
   "metadata": {},
   "source": [
    "#### 3. Create a null vector of size 10 (★☆☆)"
   ]
  },
  {
   "cell_type": "code",
   "execution_count": 4,
   "id": "537ab6c3",
   "metadata": {},
   "outputs": [
    {
     "data": {
      "text/plain": [
       "array([0., 0., 0., 0., 0., 0., 0., 0., 0., 0.])"
      ]
     },
     "execution_count": 4,
     "metadata": {},
     "output_type": "execute_result"
    }
   ],
   "source": [
    "ar = np.zeros(10)\n",
    "ar"
   ]
  },
  {
   "cell_type": "markdown",
   "id": "84e8d99e",
   "metadata": {},
   "source": [
    "#### 4.  How to find the memory size of any array (★☆☆) \n"
   ]
  },
  {
   "cell_type": "code",
   "execution_count": 5,
   "id": "b37d52a5",
   "metadata": {},
   "outputs": [
    {
     "name": "stdout",
     "output_type": "stream",
     "text": [
      "The Memory size of an array is:  10\n"
     ]
    }
   ],
   "source": [
    "print(\"The Memory size of an array is: \", np.size(ar))"
   ]
  },
  {
   "cell_type": "markdown",
   "id": "9ebe2d7c",
   "metadata": {},
   "source": [
    "#### 5. How to get the documentation of the numpy add function from the command line? (★☆☆)"
   ]
  },
  {
   "cell_type": "code",
   "execution_count": 6,
   "id": "4fb592b0",
   "metadata": {},
   "outputs": [
    {
     "name": "stdout",
     "output_type": "stream",
     "text": [
      "     *** Found in numpy ***\n",
      "add(x1, x2, /, out=None, *, where=True, casting='same_kind', order='K', dtype=None, subok=True[, signature, extobj])\n",
      "\n",
      "Add arguments element-wise.\n",
      "\n",
      "Parameters\n",
      "----------\n",
      "x1, x2 : array_like\n",
      "    The arrays to be added.\n",
      "    If ``x1.shape != x2.shape``, they must be broadcastable to a common\n",
      "    shape (which becomes the shape of the output).\n",
      "out : ndarray, None, or tuple of ndarray and None, optional\n",
      "    A location into which the result is stored. If provided, it must have\n",
      "    a shape that the inputs broadcast to. If not provided or None,\n",
      "    a freshly-allocated array is returned. A tuple (possible only as a\n",
      "    keyword argument) must have length equal to the number of outputs.\n",
      "where : array_like, optional\n",
      "    This condition is broadcast over the input. At locations where the\n",
      "    condition is True, the `out` array will be set to the ufunc result.\n",
      "    Elsewhere, the `out` array will retain its original value.\n",
      "    Note that if an uninitialized `out` array is created via the default\n",
      "    ``out=None``, locations within it where the condition is False will\n",
      "    remain uninitialized.\n",
      "**kwargs\n",
      "    For other keyword-only arguments, see the\n",
      "    :ref:`ufunc docs <ufuncs.kwargs>`.\n",
      "\n",
      "Returns\n",
      "-------\n",
      "add : ndarray or scalar\n",
      "    The sum of `x1` and `x2`, element-wise.\n",
      "    This is a scalar if both `x1` and `x2` are scalars.\n",
      "\n",
      "Notes\n",
      "-----\n",
      "Equivalent to `x1` + `x2` in terms of array broadcasting.\n",
      "\n",
      "Examples\n",
      "--------\n",
      ">>> np.add(1.0, 4.0)\n",
      "5.0\n",
      ">>> x1 = np.arange(9.0).reshape((3, 3))\n",
      ">>> x2 = np.arange(3.0)\n",
      ">>> np.add(x1, x2)\n",
      "array([[  0.,   2.,   4.],\n",
      "       [  3.,   5.,   7.],\n",
      "       [  6.,   8.,  10.]])\n",
      "\n",
      "The ``+`` operator can be used as a shorthand for ``np.add`` on ndarrays.\n",
      "\n",
      ">>> x1 = np.arange(9.0).reshape((3, 3))\n",
      ">>> x2 = np.arange(3.0)\n",
      ">>> x1 + x2\n",
      "array([[ 0.,  2.,  4.],\n",
      "       [ 3.,  5.,  7.],\n",
      "       [ 6.,  8., 10.]])\n",
      "----------------------------------------------------------------------------\n",
      "\n",
      "     *** Repeat reference found in numpy.core *** \n",
      "     *** Found in numpy.core.defchararray ***\n",
      " add(x1, x2)\n",
      "\n",
      "Return element-wise string concatenation for two arrays of str or unicode.\n",
      "\n",
      "Arrays `x1` and `x2` must have the same shape.\n",
      "\n",
      "Parameters\n",
      "----------\n",
      "x1 : array_like of str or unicode\n",
      "    Input array.\n",
      "x2 : array_like of str or unicode\n",
      "    Input array.\n",
      "\n",
      "Returns\n",
      "-------\n",
      "add : ndarray\n",
      "    Output array of `string_` or `unicode_`, depending on input types\n",
      "    of the same shape as `x1` and `x2`.\n",
      "----------------------------------------------------------------------------\n",
      "     *** Found in numpy.ma ***\n",
      "add(x1, x2, /, out=None, *, where=True, casting='same_kind', order='K', dtype=None, subok=True[, signature, extobj])\n",
      "\n",
      "Add arguments element-wise.\n",
      "\n",
      "Parameters\n",
      "----------\n",
      "x1, x2 : array_like\n",
      "    The arrays to be added.\n",
      "    If ``x1.shape != x2.shape``, they must be broadcastable to a common\n",
      "    shape (which becomes the shape of the output).\n",
      "out : ndarray, None, or tuple of ndarray and None, optional\n",
      "    A location into which the result is stored. If provided, it must have\n",
      "    a shape that the inputs broadcast to. If not provided or None,\n",
      "    a freshly-allocated array is returned. A tuple (possible only as a\n",
      "    keyword argument) must have length equal to the number of outputs.\n",
      "where : array_like, optional\n",
      "    This condition is broadcast over the input. At locations where the\n",
      "    condition is True, the `out` array will be set to the ufunc result.\n",
      "    Elsewhere, the `out` array will retain its original value.\n",
      "    Note that if an uninitialized `out` array is created via the default\n",
      "    ``out=None``, locations within it where the condition is False will\n",
      "    remain uninitialized.\n",
      "**kwargs\n",
      "    For other keyword-only arguments, see the\n",
      "    :ref:`ufunc docs <ufuncs.kwargs>`.\n",
      "\n",
      "Returns\n",
      "-------\n",
      "add : ndarray or scalar\n",
      "    The sum of `x1` and `x2`, element-wise.\n",
      "    This is a scalar if both `x1` and `x2` are scalars.\n",
      "\n",
      "Notes\n",
      "-----\n",
      "Equivalent to `x1` + `x2` in terms of array broadcasting.\n",
      "\n",
      "Examples\n",
      "--------\n",
      ">>> np.add(1.0, 4.0)\n",
      "5.0\n",
      ">>> x1 = np.arange(9.0).reshape((3, 3))\n",
      ">>> x2 = np.arange(3.0)\n",
      ">>> np.add(x1, x2)\n",
      "array([[  0.,   2.,   4.],\n",
      "       [  3.,   5.,   7.],\n",
      "       [  6.,   8.,  10.]])\n",
      "\n",
      "The ``+`` operator can be used as a shorthand for ``np.add`` on ndarrays.\n",
      "\n",
      ">>> x1 = np.arange(9.0).reshape((3, 3))\n",
      ">>> x2 = np.arange(3.0)\n",
      ">>> x1 + x2\n",
      "array([[ 0.,  2.,  4.],\n",
      "       [ 3.,  5.,  7.],\n",
      "       [ 6.,  8., 10.]])\n",
      "----------------------------------------------------------------------------\n",
      "\n",
      "     *** Repeat reference found in numpy.core._multiarray_umath *** \n",
      "\n",
      "     *** Repeat reference found in numpy.core.multiarray *** \n",
      "\n",
      "     *** Repeat reference found in numpy.core.umath *** \n",
      "\n",
      "     *** Repeat reference found in numpy.core.numeric *** \n",
      "\n",
      "     *** Repeat reference found in numpy.linalg.linalg *** \n",
      "\n",
      "     *** Repeat reference found in numpy.lib.function_base *** \n",
      "\n",
      "     *** Repeat reference found in numpy.ma.core *** \n",
      "\n",
      "     *** Repeat reference found in numpy.ma.extras *** \n",
      "     *** Found in operator ***\n",
      "Same as a + b.\n",
      "----------------------------------------------------------------------------\n",
      "\n",
      "     *** Total of 13 references found. ***\n"
     ]
    }
   ],
   "source": [
    "np.info(\"add\")"
   ]
  },
  {
   "cell_type": "markdown",
   "id": "790a164c",
   "metadata": {},
   "source": [
    "#### 6. Create a null vector of size 10 but the fifth value which is 1 (★☆☆)\n"
   ]
  },
  {
   "cell_type": "code",
   "execution_count": 7,
   "id": "c23f359c",
   "metadata": {},
   "outputs": [
    {
     "data": {
      "text/plain": [
       "array([0., 0., 0., 0., 1., 0., 0., 0., 0., 0.])"
      ]
     },
     "execution_count": 7,
     "metadata": {},
     "output_type": "execute_result"
    }
   ],
   "source": [
    "ea = np.zeros(10)\n",
    "ea[4]=1\n",
    "ea"
   ]
  },
  {
   "cell_type": "markdown",
   "id": "d4b20791",
   "metadata": {},
   "source": [
    "#### 7. Create a vector with values ranging from 10 to 49 (★☆☆)"
   ]
  },
  {
   "cell_type": "code",
   "execution_count": 8,
   "id": "5b4a2b72",
   "metadata": {},
   "outputs": [
    {
     "data": {
      "text/plain": [
       "array([10, 11, 12, 13, 14, 15, 16, 17, 18, 19, 20, 21, 22, 23, 24, 25, 26,\n",
       "       27, 28, 29, 30, 31, 32, 33, 34, 35, 36, 37, 38, 39, 40, 41, 42, 43,\n",
       "       44, 45, 46, 47, 48, 49])"
      ]
     },
     "execution_count": 8,
     "metadata": {},
     "output_type": "execute_result"
    }
   ],
   "source": [
    "r = np.arange(10,50)\n",
    "r"
   ]
  },
  {
   "cell_type": "markdown",
   "id": "713a7f0a",
   "metadata": {},
   "source": [
    "#### 8. Reverse a vector (first element becomes last) (★☆☆) "
   ]
  },
  {
   "cell_type": "code",
   "execution_count": 9,
   "id": "b4da63ad",
   "metadata": {},
   "outputs": [
    {
     "data": {
      "text/plain": [
       "array([49, 48, 47, 46, 45, 44, 43, 42, 41, 40, 39, 38, 37, 36, 35, 34, 33,\n",
       "       32, 31, 30, 29, 28, 27, 26, 25, 24, 23, 22, 21, 20, 19, 18, 17, 16,\n",
       "       15, 14, 13, 12, 11, 10])"
      ]
     },
     "execution_count": 9,
     "metadata": {},
     "output_type": "execute_result"
    }
   ],
   "source": [
    "r[::-1]"
   ]
  },
  {
   "cell_type": "markdown",
   "id": "06a2a676",
   "metadata": {},
   "source": [
    "#### 9. Create a 3x3 matrix with values ranging from 0 to 8 (★☆☆)"
   ]
  },
  {
   "cell_type": "code",
   "execution_count": 10,
   "id": "ffbdea22",
   "metadata": {},
   "outputs": [
    {
     "data": {
      "text/plain": [
       "array([[0, 1, 2],\n",
       "       [3, 4, 5],\n",
       "       [6, 7, 8]])"
      ]
     },
     "execution_count": 10,
     "metadata": {},
     "output_type": "execute_result"
    }
   ],
   "source": [
    "a = np.arange(0,9).reshape(3, -1)\n",
    "a"
   ]
  },
  {
   "cell_type": "markdown",
   "id": "79e0354b",
   "metadata": {},
   "source": [
    "#### 10. Find indices of non-zero elements from [1,2,0,0,4,0] (★☆☆)"
   ]
  },
  {
   "cell_type": "code",
   "execution_count": 11,
   "id": "ea7a8acc",
   "metadata": {},
   "outputs": [
    {
     "data": {
      "text/plain": [
       "(array([0, 1, 4], dtype=int64),)"
      ]
     },
     "execution_count": 11,
     "metadata": {},
     "output_type": "execute_result"
    }
   ],
   "source": [
    "b = [1,2,0,0,4,0]\n",
    "b1 = np.array(b)\n",
    "b1.nonzero()"
   ]
  },
  {
   "cell_type": "markdown",
   "id": "db4992ad",
   "metadata": {},
   "source": [
    "#### 11. Create a 3x3 identity matrix (★☆☆)"
   ]
  },
  {
   "cell_type": "code",
   "execution_count": 12,
   "id": "bd67ef03",
   "metadata": {},
   "outputs": [
    {
     "data": {
      "text/plain": [
       "array([[1., 0., 0.],\n",
       "       [0., 1., 0.],\n",
       "       [0., 0., 1.]])"
      ]
     },
     "execution_count": 12,
     "metadata": {},
     "output_type": "execute_result"
    }
   ],
   "source": [
    "np.eye(3)"
   ]
  },
  {
   "cell_type": "markdown",
   "id": "35fc9102",
   "metadata": {},
   "source": [
    "#### 12. Create a 3x3x3 array with random values (★☆☆)"
   ]
  },
  {
   "cell_type": "code",
   "execution_count": 13,
   "id": "855800f3",
   "metadata": {},
   "outputs": [
    {
     "data": {
      "text/plain": [
       "array([[[0.89195437, 0.20917165, 0.59744149],\n",
       "        [0.06002463, 0.66428646, 0.39669565],\n",
       "        [0.92846526, 0.34679372, 0.87739398]],\n",
       "\n",
       "       [[0.45194514, 0.57423081, 0.41769592],\n",
       "        [0.85757348, 0.70289086, 0.37008565],\n",
       "        [0.53914419, 0.8066801 , 0.37508163]],\n",
       "\n",
       "       [[0.43257186, 0.58376338, 0.93877846],\n",
       "        [0.4364937 , 0.94522357, 0.23000168],\n",
       "        [0.48936112, 0.06356034, 0.56528687]]])"
      ]
     },
     "execution_count": 13,
     "metadata": {},
     "output_type": "execute_result"
    }
   ],
   "source": [
    "np.random.random((3,3,3))"
   ]
  },
  {
   "cell_type": "markdown",
   "id": "eca0f430",
   "metadata": {},
   "source": [
    "#### 13. Create a 10x10 array with random values and find the minimum and maximum values (★☆☆) "
   ]
  },
  {
   "cell_type": "code",
   "execution_count": 14,
   "id": "a30ad2be",
   "metadata": {
    "scrolled": true
   },
   "outputs": [],
   "source": [
    "s = np.random.random((10,10))"
   ]
  },
  {
   "cell_type": "code",
   "execution_count": 15,
   "id": "26b33fe3",
   "metadata": {},
   "outputs": [
    {
     "data": {
      "text/plain": [
       "array([[0.25573255, 0.46611167, 0.73652948, 0.66467184, 0.07057975,\n",
       "        0.2449068 , 0.76359224, 0.44877056, 0.97596585, 0.59327464],\n",
       "       [0.8308808 , 0.77822533, 0.8824416 , 0.8065411 , 0.29553811,\n",
       "        0.47634482, 0.04528919, 0.53765024, 0.40723011, 0.06918034],\n",
       "       [0.87740408, 0.27108159, 0.48455721, 0.96098277, 0.60386103,\n",
       "        0.53180927, 0.20830887, 0.79471805, 0.72956076, 0.97223489],\n",
       "       [0.9544708 , 0.5369504 , 0.14722517, 0.10288276, 0.08324514,\n",
       "        0.38816872, 0.04096264, 0.89962095, 0.85196643, 0.2644862 ],\n",
       "       [0.18701004, 0.14127203, 0.05493408, 0.23475439, 0.84409689,\n",
       "        0.4837694 , 0.54840491, 0.47737412, 0.98052631, 0.97806232],\n",
       "       [0.57429072, 0.67309657, 0.25147663, 0.24750043, 0.54893363,\n",
       "        0.76404628, 0.36129188, 0.90825433, 0.93139538, 0.09010396],\n",
       "       [0.44884244, 0.7650821 , 0.56583677, 0.91575193, 0.87871672,\n",
       "        0.42160451, 0.91770038, 0.52854929, 0.7026348 , 0.90946299],\n",
       "       [0.40011635, 0.08516693, 0.34475166, 0.19421518, 0.16674519,\n",
       "        0.98615835, 0.83581472, 0.04700137, 0.45073569, 0.75479424],\n",
       "       [0.11829231, 0.9800635 , 0.66073252, 0.77825638, 0.6572852 ,\n",
       "        0.65845597, 0.68447054, 0.29223963, 0.78002842, 0.29910556],\n",
       "       [0.17130482, 0.93834241, 0.34103173, 0.86856671, 0.3252143 ,\n",
       "        0.4642407 , 0.49301703, 0.01947658, 0.05889618, 0.71135398]])"
      ]
     },
     "execution_count": 15,
     "metadata": {},
     "output_type": "execute_result"
    }
   ],
   "source": [
    "s"
   ]
  },
  {
   "cell_type": "code",
   "execution_count": 16,
   "id": "6cb2bcc2",
   "metadata": {},
   "outputs": [
    {
     "data": {
      "text/plain": [
       "0.019476578452569226"
      ]
     },
     "execution_count": 16,
     "metadata": {},
     "output_type": "execute_result"
    }
   ],
   "source": [
    "s.min()"
   ]
  },
  {
   "cell_type": "code",
   "execution_count": 17,
   "id": "11512b7b",
   "metadata": {},
   "outputs": [
    {
     "data": {
      "text/plain": [
       "0.9861583453086514"
      ]
     },
     "execution_count": 17,
     "metadata": {},
     "output_type": "execute_result"
    }
   ],
   "source": [
    "s.max()"
   ]
  },
  {
   "cell_type": "markdown",
   "id": "29468201",
   "metadata": {},
   "source": [
    "#### 14. Create a random vector of size 30 and find the mean value (★☆☆)"
   ]
  },
  {
   "cell_type": "code",
   "execution_count": 18,
   "id": "c24c57e2",
   "metadata": {},
   "outputs": [],
   "source": [
    "t = np.random.random(30)"
   ]
  },
  {
   "cell_type": "code",
   "execution_count": 19,
   "id": "3d415918",
   "metadata": {},
   "outputs": [
    {
     "data": {
      "text/plain": [
       "0.47890122270581437"
      ]
     },
     "execution_count": 19,
     "metadata": {},
     "output_type": "execute_result"
    }
   ],
   "source": [
    "t.mean()"
   ]
  },
  {
   "cell_type": "markdown",
   "id": "09acad0a",
   "metadata": {},
   "source": [
    "#### 15. Create a 2d array with 1 on the border and 0 inside (★☆☆) "
   ]
  },
  {
   "cell_type": "code",
   "execution_count": 20,
   "id": "dc5cf9ae",
   "metadata": {},
   "outputs": [
    {
     "data": {
      "text/plain": [
       "array([[1, 1, 1, 1, 1],\n",
       "       [1, 0, 0, 0, 1],\n",
       "       [1, 0, 0, 0, 1],\n",
       "       [1, 0, 0, 0, 1],\n",
       "       [1, 1, 1, 1, 1]])"
      ]
     },
     "execution_count": 20,
     "metadata": {},
     "output_type": "execute_result"
    }
   ],
   "source": [
    "z = np.ones((5,5), dtype=int)\n",
    "z[1:-1, 1:-1]=0\n",
    "z"
   ]
  },
  {
   "cell_type": "markdown",
   "id": "fa25012f",
   "metadata": {},
   "source": [
    "#### 16. How to add a border (filled with 0's) around an existing array? (★☆☆) "
   ]
  },
  {
   "cell_type": "code",
   "execution_count": 21,
   "id": "27a18610",
   "metadata": {},
   "outputs": [
    {
     "data": {
      "text/plain": [
       "array([[0, 0, 0, 0, 0, 0, 0],\n",
       "       [0, 1, 1, 1, 1, 1, 0],\n",
       "       [0, 1, 0, 0, 0, 1, 0],\n",
       "       [0, 1, 0, 0, 0, 1, 0],\n",
       "       [0, 1, 0, 0, 0, 1, 0],\n",
       "       [0, 1, 1, 1, 1, 1, 0],\n",
       "       [0, 0, 0, 0, 0, 0, 0]])"
      ]
     },
     "execution_count": 21,
     "metadata": {},
     "output_type": "execute_result"
    }
   ],
   "source": [
    "np.pad(z, 1)"
   ]
  },
  {
   "cell_type": "markdown",
   "id": "f6956746",
   "metadata": {},
   "source": [
    "#### 17. What is the result of the following expression? (★☆☆)"
   ]
  },
  {
   "cell_type": "code",
   "execution_count": 22,
   "id": "f8cf4170",
   "metadata": {},
   "outputs": [
    {
     "data": {
      "text/plain": [
       "False"
      ]
     },
     "execution_count": 22,
     "metadata": {},
     "output_type": "execute_result"
    }
   ],
   "source": [
    "0 * np.nan\n",
    "np.nan == np.nan\n",
    "np.inf > np.nan\n",
    "np.nan - np.nan\n",
    "0.3 == 3 * 0.1"
   ]
  },
  {
   "cell_type": "markdown",
   "id": "94e67c36",
   "metadata": {},
   "source": [
    "#### 18. Create a 5x5 matrix with values 1,2,3,4 just below the diagonal (★☆☆)"
   ]
  },
  {
   "cell_type": "code",
   "execution_count": 23,
   "id": "ef3ae7d0",
   "metadata": {},
   "outputs": [
    {
     "data": {
      "text/plain": [
       "array([[0, 0, 0, 0, 0],\n",
       "       [1, 0, 0, 0, 0],\n",
       "       [0, 2, 0, 0, 0],\n",
       "       [0, 0, 3, 0, 0],\n",
       "       [0, 0, 0, 4, 0]])"
      ]
     },
     "execution_count": 23,
     "metadata": {},
     "output_type": "execute_result"
    }
   ],
   "source": [
    "p = np.arange(1,5)\n",
    "w = np.diag(p, k=-1)\n",
    "w"
   ]
  },
  {
   "cell_type": "markdown",
   "id": "1095c1a5",
   "metadata": {},
   "source": [
    "#### 19. Create a 8x8 matrix and fill it with a checkerboard pattern (★☆☆)"
   ]
  },
  {
   "cell_type": "code",
   "execution_count": 24,
   "id": "7855f5cc",
   "metadata": {},
   "outputs": [
    {
     "data": {
      "text/plain": [
       "array([[0, 1, 0, 1, 0, 1, 0, 1],\n",
       "       [1, 0, 1, 0, 1, 0, 1, 0],\n",
       "       [0, 1, 0, 1, 0, 1, 0, 1],\n",
       "       [1, 0, 1, 0, 1, 0, 1, 0],\n",
       "       [0, 1, 0, 1, 0, 1, 0, 1],\n",
       "       [1, 0, 1, 0, 1, 0, 1, 0],\n",
       "       [0, 1, 0, 1, 0, 1, 0, 1],\n",
       "       [1, 0, 1, 0, 1, 0, 1, 0]])"
      ]
     },
     "execution_count": 24,
     "metadata": {},
     "output_type": "execute_result"
    }
   ],
   "source": [
    "x = np.zeros((8,8), dtype=int)\n",
    "x[1::2, ::2]=1\n",
    "x[::2, 1::2]=1\n",
    "x"
   ]
  },
  {
   "cell_type": "markdown",
   "id": "f89358bc",
   "metadata": {},
   "source": [
    "#### 20. Consider a (6,7,8) shape array, what is the index (x,y,z) of the 100th element?"
   ]
  },
  {
   "cell_type": "code",
   "execution_count": 25,
   "id": "fa9c9dab",
   "metadata": {},
   "outputs": [
    {
     "data": {
      "text/plain": [
       "(1, 5, 4)"
      ]
     },
     "execution_count": 25,
     "metadata": {},
     "output_type": "execute_result"
    }
   ],
   "source": [
    "d = np.unravel_index(100, (6,7,8), order=\"C\")\n",
    "d"
   ]
  },
  {
   "cell_type": "markdown",
   "id": "7c9c48fa",
   "metadata": {},
   "source": [
    "#### 21. Create a checkerboard 8x8 matrix using the tile function (★☆☆)"
   ]
  },
  {
   "cell_type": "code",
   "execution_count": 26,
   "id": "57e07d98",
   "metadata": {},
   "outputs": [
    {
     "data": {
      "text/plain": [
       "array([[0, 1, 0, 1, 0, 1, 0, 1],\n",
       "       [1, 0, 1, 0, 1, 0, 1, 0],\n",
       "       [0, 1, 0, 1, 0, 1, 0, 1],\n",
       "       [1, 0, 1, 0, 1, 0, 1, 0],\n",
       "       [0, 1, 0, 1, 0, 1, 0, 1],\n",
       "       [1, 0, 1, 0, 1, 0, 1, 0],\n",
       "       [0, 1, 0, 1, 0, 1, 0, 1],\n",
       "       [1, 0, 1, 0, 1, 0, 1, 0]])"
      ]
     },
     "execution_count": 26,
     "metadata": {},
     "output_type": "execute_result"
    }
   ],
   "source": [
    "a= np.array([[0,1],[1,0]])\n",
    "np.tile(a, (4,4))"
   ]
  },
  {
   "cell_type": "markdown",
   "id": "9b90001d",
   "metadata": {},
   "source": [
    "#### 22. Normalize a 5x5 random matrix (★☆☆)"
   ]
  },
  {
   "cell_type": "code",
   "execution_count": 27,
   "id": "0e27f413",
   "metadata": {},
   "outputs": [
    {
     "data": {
      "text/plain": [
       "array([[0.        , 0.04166667, 0.08333333, 0.125     , 0.16666667],\n",
       "       [0.20833333, 0.25      , 0.29166667, 0.33333333, 0.375     ],\n",
       "       [0.41666667, 0.45833333, 0.5       , 0.54166667, 0.58333333],\n",
       "       [0.625     , 0.66666667, 0.70833333, 0.75      , 0.79166667],\n",
       "       [0.83333333, 0.875     , 0.91666667, 0.95833333, 1.        ]])"
      ]
     },
     "execution_count": 27,
     "metadata": {},
     "output_type": "execute_result"
    }
   ],
   "source": [
    "s = np.arange(25).reshape(5,5)\n",
    "ma, mi = s.max(), s.min()\n",
    "s = (s-mi)/(ma-mi)\n",
    "s"
   ]
  },
  {
   "cell_type": "markdown",
   "id": "f25a3cfd",
   "metadata": {},
   "source": [
    "#### 23. Create a custom dtype that describes a color as four unsigned bytes (RGBA) (★☆☆)"
   ]
  },
  {
   "cell_type": "code",
   "execution_count": null,
   "id": "dab9a0c0",
   "metadata": {},
   "outputs": [],
   "source": []
  },
  {
   "cell_type": "markdown",
   "id": "51f44664",
   "metadata": {},
   "source": [
    "#### 24. Multiply a 5x3 matrix by a 3x2 matrix (real matrix product) (★☆☆)"
   ]
  },
  {
   "cell_type": "code",
   "execution_count": 28,
   "id": "f0742e29",
   "metadata": {},
   "outputs": [
    {
     "data": {
      "text/plain": [
       "array([[ 43,  46],\n",
       "       [160, 172],\n",
       "       [277, 298],\n",
       "       [394, 424],\n",
       "       [511, 550]])"
      ]
     },
     "execution_count": 28,
     "metadata": {},
     "output_type": "execute_result"
    }
   ],
   "source": [
    "a = np.arange(15).reshape(5,-1)\n",
    "b = np.arange(11,17).reshape(3,-1)\n",
    "dt = np.dot(a, b)\n",
    "dt"
   ]
  },
  {
   "cell_type": "markdown",
   "id": "9577888f",
   "metadata": {},
   "source": [
    "#### 25. Given a 1D array, negate all elements which are between 3 and 8, in place. (★☆☆) "
   ]
  },
  {
   "cell_type": "code",
   "execution_count": 29,
   "id": "fc246cb5",
   "metadata": {},
   "outputs": [
    {
     "data": {
      "text/plain": [
       "array([ 0,  1,  2,  3, -4, -5, -6, -7, -8,  9, 10, 11, 12, 13, 14, 15, 16,\n",
       "       17, 18, 19])"
      ]
     },
     "execution_count": 29,
     "metadata": {},
     "output_type": "execute_result"
    }
   ],
   "source": [
    "A1 = np.arange(20)\n",
    "A1[(A1>3) & (A1<=8)]*=-1\n",
    "A1"
   ]
  },
  {
   "cell_type": "markdown",
   "id": "e97ce008",
   "metadata": {},
   "source": [
    "#### 26. What is the output of the following script? (★☆☆)"
   ]
  },
  {
   "cell_type": "code",
   "execution_count": 30,
   "id": "77f6d037",
   "metadata": {},
   "outputs": [
    {
     "name": "stdout",
     "output_type": "stream",
     "text": [
      "9\n",
      "10\n"
     ]
    }
   ],
   "source": [
    "print(sum(range(5),-1))\n",
    "from numpy import *\n",
    "print(sum(range(5),-1))"
   ]
  },
  {
   "cell_type": "markdown",
   "id": "2ea7c181",
   "metadata": {},
   "source": [
    "#### 27. Consider an integer vector Z, which of these expressions are legal? (★☆☆) "
   ]
  },
  {
   "cell_type": "markdown",
   "id": "64d5f5b5",
   "metadata": {},
   "source": [
    "Z**Z\n",
    "\n",
    "2 << Z >> 2\n",
    "\n",
    "Z <- Z\n",
    "\n",
    "1j*Z\n",
    "\n",
    "Z/1/1\n",
    "\n",
    "Z<Z>Z"
   ]
  },
  {
   "cell_type": "markdown",
   "id": "950bde28",
   "metadata": {},
   "source": [
    "Nothing"
   ]
  },
  {
   "cell_type": "markdown",
   "id": "85ffbe5a",
   "metadata": {},
   "source": [
    "#### 28. What are the result of the following expressions?"
   ]
  },
  {
   "cell_type": "code",
   "execution_count": 31,
   "id": "b96d87d9",
   "metadata": {},
   "outputs": [
    {
     "name": "stderr",
     "output_type": "stream",
     "text": [
      "C:\\Users\\Revanth\\AppData\\Local\\Temp\\ipykernel_22132\\873513115.py:1: RuntimeWarning: invalid value encountered in divide\n",
      "  np.array(0) / np.array(0)\n"
     ]
    },
    {
     "data": {
      "text/plain": [
       "nan"
      ]
     },
     "execution_count": 31,
     "metadata": {},
     "output_type": "execute_result"
    }
   ],
   "source": [
    "np.array(0) / np.array(0)"
   ]
  },
  {
   "cell_type": "code",
   "execution_count": 32,
   "id": "df2100c3",
   "metadata": {},
   "outputs": [
    {
     "name": "stderr",
     "output_type": "stream",
     "text": [
      "C:\\Users\\Revanth\\AppData\\Local\\Temp\\ipykernel_22132\\2018018105.py:1: RuntimeWarning: divide by zero encountered in floor_divide\n",
      "  np.array(0) // np.array(0)\n"
     ]
    },
    {
     "data": {
      "text/plain": [
       "0"
      ]
     },
     "execution_count": 32,
     "metadata": {},
     "output_type": "execute_result"
    }
   ],
   "source": [
    "np.array(0) // np.array(0)"
   ]
  },
  {
   "cell_type": "code",
   "execution_count": 33,
   "id": "2075f381",
   "metadata": {},
   "outputs": [
    {
     "data": {
      "text/plain": [
       "array([-2.14748365e+09])"
      ]
     },
     "execution_count": 33,
     "metadata": {},
     "output_type": "execute_result"
    }
   ],
   "source": [
    "np.array([np.nan]).astype(int).astype(float)"
   ]
  },
  {
   "cell_type": "markdown",
   "id": "92b44ae0",
   "metadata": {},
   "source": [
    "#### 29. How to round away from zero a float array ? (★☆☆)"
   ]
  },
  {
   "cell_type": "code",
   "execution_count": 34,
   "id": "e84c64ea",
   "metadata": {},
   "outputs": [
    {
     "data": {
      "text/plain": [
       "array([ 2.19620858, -8.73801579, -3.27383188, -2.03443959, -9.41797007])"
      ]
     },
     "execution_count": 34,
     "metadata": {},
     "output_type": "execute_result"
    }
   ],
   "source": [
    "d = np.random.uniform(-15, 5, 5)\n",
    "d"
   ]
  },
  {
   "cell_type": "code",
   "execution_count": 35,
   "id": "2cd678cc",
   "metadata": {},
   "outputs": [
    {
     "data": {
      "text/plain": [
       "array([  3.,  -9.,  -4.,  -3., -10.])"
      ]
     },
     "execution_count": 35,
     "metadata": {},
     "output_type": "execute_result"
    }
   ],
   "source": [
    "np.copysign(np.ceil(np.abs(d)), d)"
   ]
  },
  {
   "cell_type": "markdown",
   "id": "f7c17820",
   "metadata": {},
   "source": [
    "#### 30. How to find common values between two arrays? (★☆☆)"
   ]
  },
  {
   "cell_type": "code",
   "execution_count": 36,
   "id": "cabdb78f",
   "metadata": {},
   "outputs": [
    {
     "data": {
      "text/plain": [
       "array([2])"
      ]
     },
     "execution_count": 36,
     "metadata": {},
     "output_type": "execute_result"
    }
   ],
   "source": [
    "a = np.array([1,2,4])\n",
    "b = np.array([2,5,7])\n",
    "np.intersect1d(a,b)"
   ]
  },
  {
   "cell_type": "markdown",
   "id": "3a0e4715",
   "metadata": {},
   "source": [
    "#### 31. How to ignore all numpy warnings (not recommended)? (★☆☆)"
   ]
  },
  {
   "cell_type": "code",
   "execution_count": 37,
   "id": "506ffbe4",
   "metadata": {},
   "outputs": [
    {
     "data": {
      "text/plain": [
       "nan"
      ]
     },
     "execution_count": 37,
     "metadata": {},
     "output_type": "execute_result"
    }
   ],
   "source": [
    "np.seterr(all=\"ignore\")\n",
    "np.array(0) / np.array(0)"
   ]
  },
  {
   "cell_type": "markdown",
   "id": "5e2cf48d",
   "metadata": {},
   "source": [
    "#### 32. Is the following expressions true? (★☆☆)\n",
    "np.sqrt(-1) == np.emath.sqrt(-1)"
   ]
  },
  {
   "cell_type": "markdown",
   "id": "2bc59c5f",
   "metadata": {},
   "source": [
    "##### False"
   ]
  },
  {
   "cell_type": "markdown",
   "id": "893d29d3",
   "metadata": {},
   "source": [
    "#### 33. How to get the dates of yesterday, today and tomorrow? (★☆☆)"
   ]
  },
  {
   "cell_type": "code",
   "execution_count": 38,
   "id": "3342366d",
   "metadata": {},
   "outputs": [
    {
     "name": "stdout",
     "output_type": "stream",
     "text": [
      "2022-11-29\n",
      "2022-11-30\n",
      "2022-12-01\n"
     ]
    }
   ],
   "source": [
    "Yesterday = np.datetime64(\"today\", \"D\") - np.timedelta64(1, \"D\")\n",
    "print(Yesterday)\n",
    "Today = np.datetime64(\"today\", \"D\")\n",
    "print(Today)\n",
    "Tomorrow = np.datetime64(\"today\", \"D\") + np.timedelta64(1, \"D\")\n",
    "print(Tomorrow)"
   ]
  },
  {
   "cell_type": "markdown",
   "id": "e62a6977",
   "metadata": {},
   "source": [
    "#### 34. How to get all the dates corresponding to the month of July 2016? (★★☆)"
   ]
  },
  {
   "cell_type": "code",
   "execution_count": 39,
   "id": "60ce9850",
   "metadata": {},
   "outputs": [
    {
     "data": {
      "text/plain": [
       "array(['2016-07-01', '2016-07-02', '2016-07-03', '2016-07-04',\n",
       "       '2016-07-05', '2016-07-06', '2016-07-07', '2016-07-08',\n",
       "       '2016-07-09', '2016-07-10', '2016-07-11', '2016-07-12',\n",
       "       '2016-07-13', '2016-07-14', '2016-07-15', '2016-07-16',\n",
       "       '2016-07-17', '2016-07-18', '2016-07-19', '2016-07-20',\n",
       "       '2016-07-21', '2016-07-22', '2016-07-23', '2016-07-24',\n",
       "       '2016-07-25', '2016-07-26', '2016-07-27', '2016-07-28',\n",
       "       '2016-07-29', '2016-07-30', '2016-07-31'], dtype='datetime64[D]')"
      ]
     },
     "execution_count": 39,
     "metadata": {},
     "output_type": "execute_result"
    }
   ],
   "source": [
    "np.arange(\"2016-07-01\", \"2016-08-01\", dtype=\"datetime64[D]\")"
   ]
  },
  {
   "cell_type": "markdown",
   "id": "8d688138",
   "metadata": {},
   "source": [
    "#### 35. How to compute ((A+B)*(-A/2)) in place (without copy)? (★★☆)"
   ]
  },
  {
   "cell_type": "code",
   "execution_count": 40,
   "id": "469493fd",
   "metadata": {},
   "outputs": [
    {
     "data": {
      "text/plain": [
       "array([-25.,  -8., -15., -24.])"
      ]
     },
     "execution_count": 40,
     "metadata": {},
     "output_type": "execute_result"
    }
   ],
   "source": [
    "A = np.array([5,2,3,4]).astype(\"float64\")\n",
    "B = np.array([5,6,7,8]).astype(\"float64\")\n",
    "np.add(A,B, out=B)\n",
    "np,divide(A, 2, out=A)\n",
    "np.negative(A, out=A)\n",
    "np.multiply(A,B, out=A)"
   ]
  },
  {
   "cell_type": "markdown",
   "id": "93b2b269",
   "metadata": {},
   "source": [
    "#### 36. Extract the integer part of a random array using 5 different methods (★★☆)"
   ]
  },
  {
   "cell_type": "code",
   "execution_count": 41,
   "id": "62e89cef",
   "metadata": {},
   "outputs": [
    {
     "name": "stdout",
     "output_type": "stream",
     "text": [
      "[9. 3. 4. 5. 6. 5. 3. 3. 2. 2.]\n",
      "[9. 3. 4. 5. 6. 5. 3. 3. 2. 2.]\n",
      "[9. 3. 4. 5. 6. 5. 3. 3. 2. 2.]\n",
      "[9 3 4 5 6 5 3 3 2 2]\n",
      "[9. 3. 4. 5. 6. 5. 3. 3. 2. 2.]\n"
     ]
    }
   ],
   "source": [
    "a=np.random.uniform(2, 10, 10)\n",
    "m1 = np.ceil(a)-1\n",
    "print(m1)\n",
    "m2 = np.trunc(a)\n",
    "print(m2)\n",
    "m3 = np.floor(a)\n",
    "print(m3)\n",
    "m4 = a.astype(\"int64\")\n",
    "print(m4)\n",
    "m5 = a-a%1\n",
    "print(m5)"
   ]
  },
  {
   "cell_type": "markdown",
   "id": "590247e2",
   "metadata": {},
   "source": [
    "#### 37. Create a 5x5 matrix with row values ranging from 0 to 4 (★★☆) "
   ]
  },
  {
   "cell_type": "code",
   "execution_count": 42,
   "id": "9db710da",
   "metadata": {},
   "outputs": [
    {
     "data": {
      "text/plain": [
       "array([[0., 1., 2., 3., 4.],\n",
       "       [0., 1., 2., 3., 4.],\n",
       "       [0., 1., 2., 3., 4.],\n",
       "       [0., 1., 2., 3., 4.],\n",
       "       [0., 1., 2., 3., 4.]])"
      ]
     },
     "execution_count": 42,
     "metadata": {},
     "output_type": "execute_result"
    }
   ],
   "source": [
    "s = np.zeros(25).reshape(5,5)\n",
    "s=s+arange(5)\n",
    "s"
   ]
  },
  {
   "cell_type": "markdown",
   "id": "f0494299",
   "metadata": {},
   "source": [
    "#### 38. Consider a generator function that generates 10 integers and use it to build an array (★☆☆)"
   ]
  },
  {
   "cell_type": "code",
   "execution_count": 43,
   "id": "f6d9bfa6",
   "metadata": {},
   "outputs": [
    {
     "data": {
      "text/plain": [
       "array([ 0.,  2.,  4.,  6.,  8., 10., 12., 14., 16., 18.])"
      ]
     },
     "execution_count": 43,
     "metadata": {},
     "output_type": "execute_result"
    }
   ],
   "source": [
    "def gen():\n",
    "    for c in range(10):\n",
    "        i = c+c\n",
    "        yield i\n",
    "ar = np.fromiter(gen(), dtype=\"float64\")\n",
    "ar"
   ]
  },
  {
   "cell_type": "markdown",
   "id": "a7d77ebb",
   "metadata": {},
   "source": [
    "#### 39. Create a vector of size 10 with values ranging from 0 to 1, both excluded (★★☆)"
   ]
  },
  {
   "cell_type": "code",
   "execution_count": 44,
   "id": "8d6edf33",
   "metadata": {},
   "outputs": [
    {
     "data": {
      "text/plain": [
       "array([0.09090909, 0.18181818, 0.27272727, 0.36363636, 0.45454545,\n",
       "       0.54545455, 0.63636364, 0.72727273, 0.81818182, 0.90909091])"
      ]
     },
     "execution_count": 44,
     "metadata": {},
     "output_type": "execute_result"
    }
   ],
   "source": [
    "v = np.linspace(0, 1, num=11, endpoint=False)\n",
    "v[1:]"
   ]
  },
  {
   "cell_type": "markdown",
   "id": "61c1a023",
   "metadata": {},
   "source": [
    "#### 40. Create a random vector of size 10 and sort it (★★☆) "
   ]
  },
  {
   "cell_type": "code",
   "execution_count": 45,
   "id": "b23e18b0",
   "metadata": {},
   "outputs": [
    {
     "data": {
      "text/plain": [
       "array([0.18920806, 0.24456894, 0.24486451, 0.35450909, 0.44461139,\n",
       "       0.58726857, 0.61639883, 0.81924874, 0.85963766, 0.90539202])"
      ]
     },
     "execution_count": 45,
     "metadata": {},
     "output_type": "execute_result"
    }
   ],
   "source": [
    "r = np.random.random(10)\n",
    "r.sort()\n",
    "r"
   ]
  },
  {
   "cell_type": "markdown",
   "id": "c31e8d93",
   "metadata": {},
   "source": [
    "#### 41. How to sum a small array faster than np.sum? (★★☆)"
   ]
  },
  {
   "cell_type": "code",
   "execution_count": 46,
   "id": "535a485e",
   "metadata": {},
   "outputs": [
    {
     "data": {
      "text/plain": [
       "14"
      ]
     },
     "execution_count": 46,
     "metadata": {},
     "output_type": "execute_result"
    }
   ],
   "source": [
    "arr = [1,5,8]\n",
    "np.add.reduce(arr)"
   ]
  },
  {
   "cell_type": "markdown",
   "id": "218a6ba0",
   "metadata": {},
   "source": [
    "#### 42. Consider two random array A and B, check if they are equal (★★☆)"
   ]
  },
  {
   "cell_type": "code",
   "execution_count": 47,
   "id": "d759fd7d",
   "metadata": {},
   "outputs": [
    {
     "name": "stdout",
     "output_type": "stream",
     "text": [
      "[5.41103398 4.26291124 5.13843762 2.33835073 4.63790755]\n",
      "[5.75936925 5.44664346 4.14549163 2.86142491 3.06355075]\n",
      "False\n",
      "False\n"
     ]
    }
   ],
   "source": [
    "a1 = np.random.uniform(2,6,5)\n",
    "a2 = np.random.uniform(2,6,5)\n",
    "print(a1)\n",
    "print(a2)\n",
    "print(np.array_equal(a1, a2))\n",
    "print(np.allclose(a1,a2))"
   ]
  },
  {
   "cell_type": "markdown",
   "id": "c8b6b428",
   "metadata": {},
   "source": [
    "#### 43. Make an array immutable (read-only) (★★☆)"
   ]
  },
  {
   "cell_type": "code",
   "execution_count": 48,
   "id": "c4d20184",
   "metadata": {},
   "outputs": [
    {
     "ename": "ValueError",
     "evalue": "assignment destination is read-only",
     "output_type": "error",
     "traceback": [
      "\u001b[1;31m---------------------------------------------------------------------------\u001b[0m",
      "\u001b[1;31mValueError\u001b[0m                                Traceback (most recent call last)",
      "Cell \u001b[1;32mIn [48], line 3\u001b[0m\n\u001b[0;32m      1\u001b[0m m \u001b[38;5;241m=\u001b[39m np\u001b[38;5;241m.\u001b[39mrandom\u001b[38;5;241m.\u001b[39mrandom(\u001b[38;5;241m10\u001b[39m)\n\u001b[0;32m      2\u001b[0m m\u001b[38;5;241m.\u001b[39mflags\u001b[38;5;241m.\u001b[39mwriteable\u001b[38;5;241m=\u001b[39m\u001b[38;5;28;01mFalse\u001b[39;00m\n\u001b[1;32m----> 3\u001b[0m \u001b[43mm\u001b[49m\u001b[43m[\u001b[49m\u001b[38;5;241;43m4\u001b[39;49m\u001b[43m]\u001b[49m\u001b[38;5;241m=\u001b[39m\u001b[38;5;241m5\u001b[39m\n",
      "\u001b[1;31mValueError\u001b[0m: assignment destination is read-only"
     ]
    }
   ],
   "source": [
    "m = np.random.random(10)\n",
    "m.flags.writeable=False\n",
    "m[4]=5"
   ]
  },
  {
   "cell_type": "markdown",
   "id": "cbf46bdb",
   "metadata": {},
   "source": [
    "#### 44. Consider a random 10x2 matrix representing cartesian coordinates, convert them to polar coordinates (★★☆)"
   ]
  },
  {
   "cell_type": "code",
   "execution_count": 49,
   "id": "4ba69e86",
   "metadata": {},
   "outputs": [
    {
     "name": "stdout",
     "output_type": "stream",
     "text": [
      "[[0.42868958 0.48979011]\n",
      " [0.57786435 0.49121367]\n",
      " [0.47443144 0.04746895]\n",
      " [0.99963963 0.07027269]\n",
      " [0.25690647 0.38544182]\n",
      " [0.15079424 0.03095416]\n",
      " [0.79365928 0.95967307]\n",
      " [0.87817687 0.48108146]\n",
      " [0.27216197 0.67507328]\n",
      " [0.72339263 0.7342605 ]]\n",
      "[0.65089869 0.75843133 0.47680026 1.0021066  0.46321305 0.1539385\n",
      " 1.24533829 1.00131613 0.72787091 1.03074506]\n",
      "[0.85182385 0.70452318 0.09972251 0.07018257 0.98289206 0.2024617\n",
      " 0.87980144 0.50116675 1.18756952 0.79285375]\n"
     ]
    }
   ],
   "source": [
    "M = np.random.random((10,2))\n",
    "print(M)\n",
    "a, b = M[:,0], M[:,1]\n",
    "c = np.sqrt(a**2+b**2)\n",
    "d = np.arctan2(b,a)\n",
    "print(c)\n",
    "print(d)"
   ]
  },
  {
   "cell_type": "markdown",
   "id": "8e9ef29f",
   "metadata": {},
   "source": [
    "#### 45. Create random vector of size 10 and replace the maximum value by 0 (★★☆)"
   ]
  },
  {
   "cell_type": "code",
   "execution_count": 50,
   "id": "6733ae10",
   "metadata": {},
   "outputs": [
    {
     "name": "stdout",
     "output_type": "stream",
     "text": [
      "[0.91112364 0.4946053  0.33662908 0.38811161 0.35544509 0.74126219\n",
      " 0.12484439 0.93226226 0.5862236  0.18995812]\n",
      "[0.91112364 0.4946053  0.33662908 0.38811161 0.35544509 0.74126219\n",
      " 0.12484439 0.         0.5862236  0.18995812]\n"
     ]
    }
   ],
   "source": [
    "A = np.random.random(10)\n",
    "print(A)\n",
    "A[np.argmax(A)]=0\n",
    "print(A)"
   ]
  },
  {
   "cell_type": "markdown",
   "id": "3d91615c",
   "metadata": {},
   "source": [
    "#### 46. Create a structured array with x and y coordinates covering the [0,1]x[0,1] area (★★☆)"
   ]
  },
  {
   "cell_type": "code",
   "execution_count": 51,
   "id": "8d96eb3c",
   "metadata": {},
   "outputs": [
    {
     "name": "stdout",
     "output_type": "stream",
     "text": [
      "[[(0.  , 0.  ) (0.25, 0.  ) (0.5 , 0.  ) (0.75, 0.  ) (1.  , 0.  )]\n",
      " [(0.  , 0.25) (0.25, 0.25) (0.5 , 0.25) (0.75, 0.25) (1.  , 0.25)]\n",
      " [(0.  , 0.5 ) (0.25, 0.5 ) (0.5 , 0.5 ) (0.75, 0.5 ) (1.  , 0.5 )]\n",
      " [(0.  , 0.75) (0.25, 0.75) (0.5 , 0.75) (0.75, 0.75) (1.  , 0.75)]\n",
      " [(0.  , 1.  ) (0.25, 1.  ) (0.5 , 1.  ) (0.75, 1.  ) (1.  , 1.  )]]\n"
     ]
    }
   ],
   "source": [
    "Z = np.zeros((5,5), [('x',float),('y',float)])\n",
    "Z['x'], Z['y'] = np.meshgrid(np.linspace(0,1,5),\n",
    "                             np.linspace(0,1,5))\n",
    "print(Z)"
   ]
  },
  {
   "cell_type": "markdown",
   "id": "ce9d8cff",
   "metadata": {},
   "source": [
    "#### 47. Given two arrays, X and Y, construct the Cauchy matrix C (Cij =1/(xi - yj))\n"
   ]
  },
  {
   "cell_type": "code",
   "execution_count": 52,
   "id": "7e930ac5",
   "metadata": {},
   "outputs": [
    {
     "data": {
      "text/plain": [
       "array([0.5, 1.5, 2.5, 3.5, 4.5, 5.5, 6.5, 7.5])"
      ]
     },
     "execution_count": 52,
     "metadata": {},
     "output_type": "execute_result"
    }
   ],
   "source": [
    "X = np.arange(8)\n",
    "Y= X+0.5\n",
    "Y"
   ]
  },
  {
   "cell_type": "markdown",
   "id": "bed3bcce",
   "metadata": {},
   "source": [
    "#### 48. Print the minimum and maximum representable value for each numpy scalar type (★★☆)"
   ]
  },
  {
   "cell_type": "code",
   "execution_count": 53,
   "id": "4bae9878",
   "metadata": {},
   "outputs": [
    {
     "name": "stdout",
     "output_type": "stream",
     "text": [
      "Machine parameters for int8\n",
      "---------------------------------------------------------------\n",
      "min = -128\n",
      "max = 127\n",
      "---------------------------------------------------------------\n",
      "\n",
      "Machine parameters for int32\n",
      "---------------------------------------------------------------\n",
      "min = -2147483648\n",
      "max = 2147483647\n",
      "---------------------------------------------------------------\n",
      "\n",
      "Machine parameters for int64\n",
      "---------------------------------------------------------------\n",
      "min = -9223372036854775808\n",
      "max = 9223372036854775807\n",
      "---------------------------------------------------------------\n",
      "\n",
      "Maximum value of  <class 'numpy.float32'> is  3.4028235e+38\n",
      "Minimum value of  <class 'numpy.float32'> is  -3.4028235e+38\n",
      "Maximum value of  <class 'numpy.float64'> is  1.7976931348623157e+308\n",
      "Minimum value of  <class 'numpy.float64'> is  -1.7976931348623157e+308\n"
     ]
    }
   ],
   "source": [
    "for i in [np.int8, np.int32, np.int64]:\n",
    "    print(np.iinfo(i))\n",
    "for f in [np.float32, np.float64]:\n",
    "    print(\"Maximum value of \",f,\"is \",np.finfo(f).max)\n",
    "    print(\"Minimum value of \",f,\"is \",np.finfo(f).min)"
   ]
  },
  {
   "cell_type": "markdown",
   "id": "a74be801",
   "metadata": {},
   "source": [
    "#### 49. How to print all the values of an array? (★★☆)"
   ]
  },
  {
   "cell_type": "code",
   "execution_count": 54,
   "id": "916d2527",
   "metadata": {},
   "outputs": [
    {
     "data": {
      "text/plain": [
       "array([[1., 1., 1., 1., 1., 1., 1., 1., 1., 1., 1., 1., 1., 1., 1., 1.,\n",
       "        1., 1., 1., 1.],\n",
       "       [1., 1., 1., 1., 1., 1., 1., 1., 1., 1., 1., 1., 1., 1., 1., 1.,\n",
       "        1., 1., 1., 1.],\n",
       "       [1., 1., 1., 1., 1., 1., 1., 1., 1., 1., 1., 1., 1., 1., 1., 1.,\n",
       "        1., 1., 1., 1.],\n",
       "       [1., 1., 1., 1., 1., 1., 1., 1., 1., 1., 1., 1., 1., 1., 1., 1.,\n",
       "        1., 1., 1., 1.],\n",
       "       [1., 1., 1., 1., 1., 1., 1., 1., 1., 1., 1., 1., 1., 1., 1., 1.,\n",
       "        1., 1., 1., 1.],\n",
       "       [1., 1., 1., 1., 1., 1., 1., 1., 1., 1., 1., 1., 1., 1., 1., 1.,\n",
       "        1., 1., 1., 1.],\n",
       "       [1., 1., 1., 1., 1., 1., 1., 1., 1., 1., 1., 1., 1., 1., 1., 1.,\n",
       "        1., 1., 1., 1.],\n",
       "       [1., 1., 1., 1., 1., 1., 1., 1., 1., 1., 1., 1., 1., 1., 1., 1.,\n",
       "        1., 1., 1., 1.],\n",
       "       [1., 1., 1., 1., 1., 1., 1., 1., 1., 1., 1., 1., 1., 1., 1., 1.,\n",
       "        1., 1., 1., 1.],\n",
       "       [1., 1., 1., 1., 1., 1., 1., 1., 1., 1., 1., 1., 1., 1., 1., 1.,\n",
       "        1., 1., 1., 1.],\n",
       "       [1., 1., 1., 1., 1., 1., 1., 1., 1., 1., 1., 1., 1., 1., 1., 1.,\n",
       "        1., 1., 1., 1.],\n",
       "       [1., 1., 1., 1., 1., 1., 1., 1., 1., 1., 1., 1., 1., 1., 1., 1.,\n",
       "        1., 1., 1., 1.],\n",
       "       [1., 1., 1., 1., 1., 1., 1., 1., 1., 1., 1., 1., 1., 1., 1., 1.,\n",
       "        1., 1., 1., 1.],\n",
       "       [1., 1., 1., 1., 1., 1., 1., 1., 1., 1., 1., 1., 1., 1., 1., 1.,\n",
       "        1., 1., 1., 1.],\n",
       "       [1., 1., 1., 1., 1., 1., 1., 1., 1., 1., 1., 1., 1., 1., 1., 1.,\n",
       "        1., 1., 1., 1.],\n",
       "       [1., 1., 1., 1., 1., 1., 1., 1., 1., 1., 1., 1., 1., 1., 1., 1.,\n",
       "        1., 1., 1., 1.],\n",
       "       [1., 1., 1., 1., 1., 1., 1., 1., 1., 1., 1., 1., 1., 1., 1., 1.,\n",
       "        1., 1., 1., 1.],\n",
       "       [1., 1., 1., 1., 1., 1., 1., 1., 1., 1., 1., 1., 1., 1., 1., 1.,\n",
       "        1., 1., 1., 1.],\n",
       "       [1., 1., 1., 1., 1., 1., 1., 1., 1., 1., 1., 1., 1., 1., 1., 1.,\n",
       "        1., 1., 1., 1.],\n",
       "       [1., 1., 1., 1., 1., 1., 1., 1., 1., 1., 1., 1., 1., 1., 1., 1.,\n",
       "        1., 1., 1., 1.]])"
      ]
     },
     "execution_count": 54,
     "metadata": {},
     "output_type": "execute_result"
    }
   ],
   "source": [
    "A = np.ones((20,20))\n",
    "np.set_printoptions(threshold=None)\n",
    "A"
   ]
  },
  {
   "cell_type": "markdown",
   "id": "9c41e55c",
   "metadata": {},
   "source": [
    "#### 50. How to find the closest value (to a given scalar) in a vector? (★★☆)"
   ]
  },
  {
   "cell_type": "code",
   "execution_count": 55,
   "id": "f56453d7",
   "metadata": {},
   "outputs": [
    {
     "name": "stdout",
     "output_type": "stream",
     "text": [
      "Random Scalar value is 61.855806000478744\n",
      "Closest Value is  62\n"
     ]
    }
   ],
   "source": [
    "W = np.arange(100)\n",
    "X = np.random.uniform(0,100)\n",
    "print(\"Random Scalar value is\",X)\n",
    "ind = (np.abs(W-X)).argmin()\n",
    "print(\"Closest Value is \",W[ind])"
   ]
  },
  {
   "cell_type": "markdown",
   "id": "83633bbb",
   "metadata": {},
   "source": [
    "#### 51. Create a structured array representing a position (x,y) and a color (r,g,b) (★★☆) "
   ]
  },
  {
   "cell_type": "code",
   "execution_count": 56,
   "id": "a9f8d042",
   "metadata": {},
   "outputs": [
    {
     "name": "stderr",
     "output_type": "stream",
     "text": [
      "C:\\Users\\Revanth\\AppData\\Local\\Temp\\ipykernel_22132\\1168596840.py:1: FutureWarning: Passing (type, 1) or '1type' as a synonym of type is deprecated; in a future version of numpy, it will be understood as (type, (1,)) / '(1,)type'.\n",
      "  R = np.zeros(10, [ ('position', [ ('x', float, 1),('y', float, 1)]),\n"
     ]
    },
    {
     "data": {
      "text/plain": [
       "array([((0., 0.), (0., 0., 0.)), ((0., 0.), (0., 0., 0.)),\n",
       "       ((0., 0.), (0., 0., 0.)), ((0., 0.), (0., 0., 0.)),\n",
       "       ((0., 0.), (0., 0., 0.)), ((0., 0.), (0., 0., 0.)),\n",
       "       ((0., 0.), (0., 0., 0.)), ((0., 0.), (0., 0., 0.)),\n",
       "       ((0., 0.), (0., 0., 0.)), ((0., 0.), (0., 0., 0.))],\n",
       "      dtype=[('position', [('x', '<f8'), ('y', '<f8')]), ('color', [('r', '<f8'), ('g', '<f8'), ('b', '<f8')])])"
      ]
     },
     "execution_count": 56,
     "metadata": {},
     "output_type": "execute_result"
    }
   ],
   "source": [
    "R = np.zeros(10, [ ('position', [ ('x', float, 1),('y', float, 1)]),\n",
    "                   ('color',    [ ('r', float, 1),('g', float, 1),('b', float, 1)])])\n",
    "R\n"
   ]
  },
  {
   "cell_type": "markdown",
   "id": "483c1fef",
   "metadata": {},
   "source": [
    "#### 52. Consider a random vector with shape (100,2) representing coordinates, find point by point distances (★★☆)"
   ]
  },
  {
   "cell_type": "code",
   "execution_count": 57,
   "id": "01cd82a5",
   "metadata": {},
   "outputs": [
    {
     "name": "stdout",
     "output_type": "stream",
     "text": [
      "[[0.         0.33282321 0.45857612 ... 0.40629981 0.21273065 0.7111179 ]\n",
      " [0.33282321 0.         0.50553562 ... 0.25068264 0.54163932 0.88536739]\n",
      " [0.45857612 0.50553562 0.         ... 0.2968704  0.58525225 0.4118679 ]\n",
      " ...\n",
      " [0.40629981 0.25068264 0.2968704  ... 0.         0.60688454 0.70617657]\n",
      " [0.21273065 0.54163932 0.58525225 ... 0.60688454 0.         0.71833987]\n",
      " [0.7111179  0.88536739 0.4118679  ... 0.70617657 0.71833987 0.        ]]\n"
     ]
    }
   ],
   "source": [
    "F = np.random.random((100,2))\n",
    "A,B = np.atleast_2d(F[:,0], F[:,1])\n",
    "ans = np.sqrt((A-A.T)**2 + (B-B.T)**2)\n",
    "print(ans)"
   ]
  },
  {
   "cell_type": "markdown",
   "id": "ea8a5e47",
   "metadata": {},
   "source": [
    "#### 53. How to convert a float (32 bits) array into an integer (32 bits) in place? "
   ]
  },
  {
   "cell_type": "code",
   "execution_count": 58,
   "id": "9fe2fbd2",
   "metadata": {},
   "outputs": [
    {
     "data": {
      "text/plain": [
       "array([ 0,  1,  2,  3,  4,  5,  6,  7,  8,  9, 10, 11, 12, 13, 14])"
      ]
     },
     "execution_count": 58,
     "metadata": {},
     "output_type": "execute_result"
    }
   ],
   "source": [
    "A = np.arange(15).astype(\"float32\")\n",
    "A = A.astype(\"int32\", copy=False)\n",
    "A"
   ]
  },
  {
   "cell_type": "markdown",
   "id": "58faaa8c",
   "metadata": {},
   "source": [
    "#### 54. How to read the following file? (★★☆)\n",
    "1, 2, 3, 4, 5\n",
    "6,  ,  , 7, 8\n",
    " ,  , 9,10,11"
   ]
  },
  {
   "cell_type": "code",
   "execution_count": 59,
   "id": "e42133a0",
   "metadata": {},
   "outputs": [
    {
     "data": {
      "text/plain": [
       "array([[ 1.,  2.,  3.,  4.,  5.],\n",
       "       [ 6., nan, nan,  7.,  8.],\n",
       "       [nan, nan,  9., 10., 11.]])"
      ]
     },
     "execution_count": 59,
     "metadata": {},
     "output_type": "execute_result"
    }
   ],
   "source": [
    "from io import StringIO\n",
    "S = StringIO(\"\"\"1, 2, 3, 4, 5\\n 6, , , 7, 8\\n , , 9,10,11\"\"\")\n",
    "D = np.genfromtxt(S, delimiter=\",\")\n",
    "D"
   ]
  },
  {
   "cell_type": "markdown",
   "id": "5133c5f4",
   "metadata": {},
   "source": [
    "#### 55. What is the equivalent of enumerate for numpy arrays? (★★☆)"
   ]
  },
  {
   "cell_type": "code",
   "execution_count": 60,
   "id": "223e8b75",
   "metadata": {},
   "outputs": [
    {
     "name": "stdout",
     "output_type": "stream",
     "text": [
      "((0, 0), 0)\n",
      "((0, 1), 1)\n",
      "((0, 2), 2)\n",
      "((1, 0), 3)\n",
      "((1, 1), 4)\n",
      "((1, 2), 5)\n",
      "((2, 0), 6)\n",
      "((2, 1), 7)\n",
      "((2, 2), 8)\n",
      "((3, 0), 9)\n",
      "((3, 1), 10)\n",
      "((3, 2), 11)\n"
     ]
    }
   ],
   "source": [
    "S = np.arange(12).reshape(4,3)\n",
    "for val in np.ndenumerate(S):\n",
    "    print(val)"
   ]
  },
  {
   "cell_type": "markdown",
   "id": "7a98186c",
   "metadata": {},
   "source": [
    "#### 56. Generate a generic 2D Gaussian-like array (★★☆)"
   ]
  },
  {
   "cell_type": "code",
   "execution_count": 61,
   "id": "b13e000a",
   "metadata": {},
   "outputs": [
    {
     "data": {
      "text/plain": [
       "array([[3.72007598e-44, 3.58273784e-39, 7.74671109e-35, 3.76061432e-31,\n",
       "        4.09863589e-28, 1.00290314e-25, 5.50957053e-24, 6.79540917e-23,\n",
       "        1.88170953e-22, 1.16984592e-22],\n",
       "       [3.58273784e-39, 3.45046997e-34, 7.46071725e-30, 3.62177959e-26,\n",
       "        3.94732205e-23, 9.65877859e-21, 5.30616766e-19, 6.54453558e-18,\n",
       "        1.81224039e-17, 1.12665743e-17],\n",
       "       [7.74671109e-35, 7.46071725e-30, 1.61318030e-25, 7.83112841e-22,\n",
       "        8.53502679e-19, 2.08845220e-16, 1.14731665e-14, 1.41508055e-13,\n",
       "        3.91848451e-13, 2.43609496e-13],\n",
       "       [3.76061432e-31, 3.62177959e-26, 7.83112841e-22, 3.80159442e-18,\n",
       "        4.14329947e-15, 1.01383195e-12, 5.56960932e-11, 6.86945998e-10,\n",
       "        1.90221486e-09, 1.18259394e-09],\n",
       "       [4.09863589e-28, 3.94732205e-23, 8.53502679e-19, 4.14329947e-15,\n",
       "        4.51571857e-12, 1.10495990e-09, 6.07023181e-08, 7.48691911e-07,\n",
       "        2.07319481e-06, 1.28889101e-06],\n",
       "       [1.00290314e-25, 9.65877859e-21, 2.08845220e-16, 1.01383195e-12,\n",
       "        1.10495990e-09, 2.70374774e-07, 1.48533675e-05, 1.83198870e-04,\n",
       "        5.07294044e-04, 3.15381231e-04],\n",
       "       [5.50957053e-24, 5.30616766e-19, 1.14731665e-14, 5.56960932e-11,\n",
       "        6.07023181e-08, 1.48533675e-05, 8.15987835e-04, 1.00642531e-02,\n",
       "        2.78688162e-02, 1.73258520e-02],\n",
       "       [6.79540917e-23, 6.54453558e-18, 1.41508055e-13, 6.86945998e-10,\n",
       "        7.48691911e-07, 1.83198870e-04, 1.00642531e-02, 1.24130760e-01,\n",
       "        3.43729168e-01, 2.13694068e-01],\n",
       "       [1.88170953e-22, 1.81224039e-17, 3.91848451e-13, 1.90221486e-09,\n",
       "        2.07319481e-06, 5.07294044e-04, 2.78688162e-02, 3.43729168e-01,\n",
       "        9.51816784e-01, 5.91737971e-01],\n",
       "       [1.16984592e-22, 1.12665743e-17, 2.43609496e-13, 1.18259394e-09,\n",
       "        1.28889101e-06, 3.15381231e-04, 1.73258520e-02, 2.13694068e-01,\n",
       "        5.91737971e-01, 3.67879441e-01]])"
      ]
     },
     "execution_count": 61,
     "metadata": {},
     "output_type": "execute_result"
    }
   ],
   "source": [
    "A,B = np.meshgrid(np.linspace(-10,1,10), np.linspace(-10,1,10))\n",
    "C = np.sqrt(A*A+B*B)\n",
    "sigma, mu = 1.0, 0.0\n",
    "Gau = np.exp(-( (C-mu)**2 / ( 2.0 * sigma**2 ) ) )\n",
    "Gau"
   ]
  },
  {
   "cell_type": "markdown",
   "id": "19218aa8",
   "metadata": {},
   "source": [
    "#### 57. How to randomly place p elements in a 2D array? (★★☆)"
   ]
  },
  {
   "cell_type": "code",
   "execution_count": 62,
   "id": "07a423d8",
   "metadata": {},
   "outputs": [
    {
     "data": {
      "text/plain": [
       "array([[ 1,  1, 99,  1,  1,  1,  1],\n",
       "       [ 1,  1,  1,  1,  1, 99,  1],\n",
       "       [ 1,  1,  1, 99,  1,  1,  1],\n",
       "       [ 1,  1,  1,  1,  1,  1,  1],\n",
       "       [ 1,  1,  1,  1,  1,  1,  1],\n",
       "       [ 1,  1, 99,  1,  1,  1,  1],\n",
       "       [99,  1,  1,  1,  1,  1,  1]])"
      ]
     },
     "execution_count": 62,
     "metadata": {},
     "output_type": "execute_result"
    }
   ],
   "source": [
    "S = np.ones((7,7), dtype=\"int32\")\n",
    "np.put(S,np.random.choice(range(7*7), 5, replace=False), 99)\n",
    "S"
   ]
  },
  {
   "cell_type": "markdown",
   "id": "4e27e3df",
   "metadata": {},
   "source": [
    "#### 58. Subtract the mean of each row of a matrix (★★☆)"
   ]
  },
  {
   "cell_type": "code",
   "execution_count": 63,
   "id": "737a4f37",
   "metadata": {},
   "outputs": [
    {
     "data": {
      "text/plain": [
       "array([[ -1.5,  -4.5,  -7.5, -10.5],\n",
       "       [  2.5,  -0.5,  -3.5,  -6.5],\n",
       "       [  6.5,   3.5,   0.5,  -2.5],\n",
       "       [ 10.5,   7.5,   4.5,   1.5]])"
      ]
     },
     "execution_count": 63,
     "metadata": {},
     "output_type": "execute_result"
    }
   ],
   "source": [
    "X = np.arange(16).reshape(4,4)\n",
    "X= X-X.mean(axis=1)\n",
    "X"
   ]
  },
  {
   "cell_type": "markdown",
   "id": "08352196",
   "metadata": {},
   "source": [
    "#### 59. How to sort an array by the nth column? (★★☆)"
   ]
  },
  {
   "cell_type": "code",
   "execution_count": 64,
   "id": "d4638361",
   "metadata": {},
   "outputs": [
    {
     "data": {
      "text/plain": [
       "array([[ 4,  3,  2,  1],\n",
       "       [ 8,  7,  6,  5],\n",
       "       [12, 11, 10,  9],\n",
       "       [16, 15, 14, 13]])"
      ]
     },
     "execution_count": 64,
     "metadata": {},
     "output_type": "execute_result"
    }
   ],
   "source": [
    "Y = np.arange(16,0,-1).reshape(4,4)\n",
    "Y[Y[:,1].argsort()]"
   ]
  },
  {
   "cell_type": "markdown",
   "id": "d91302c3",
   "metadata": {},
   "source": [
    "#### 60. How to tell if a given 2D array has null columns? (★★☆)"
   ]
  },
  {
   "cell_type": "code",
   "execution_count": 65,
   "id": "2e065a10",
   "metadata": {},
   "outputs": [
    {
     "name": "stdout",
     "output_type": "stream",
     "text": [
      "False\n"
     ]
    }
   ],
   "source": [
    "f = np.arange(20).reshape(5,4)\n",
    "print((~f.any(axis=0).any()))"
   ]
  },
  {
   "cell_type": "markdown",
   "id": "38b3d9df",
   "metadata": {},
   "source": [
    "#### 61. Find the nearest value from a given value in an array (★★☆)"
   ]
  },
  {
   "cell_type": "code",
   "execution_count": 66,
   "id": "4a158d39",
   "metadata": {},
   "outputs": [
    {
     "name": "stdout",
     "output_type": "stream",
     "text": [
      "Random Scalar value is 12.286054584202933\n",
      "Closest Value is  12\n"
     ]
    }
   ],
   "source": [
    "W = np.arange(100)\n",
    "X = np.random.uniform(0,100)\n",
    "print(\"Random Scalar value is\",X)\n",
    "ind = (np.abs(W-X)).argmin()\n",
    "print(\"Closest Value is \",W[ind])"
   ]
  },
  {
   "cell_type": "markdown",
   "id": "6d2da366",
   "metadata": {},
   "source": [
    "#### 62. Considering two arrays with shape (1,3) and (3,1), how to compute their sum using an iterator? (★★☆)"
   ]
  },
  {
   "cell_type": "code",
   "execution_count": 67,
   "id": "edc82db8",
   "metadata": {
    "scrolled": true
   },
   "outputs": [
    {
     "name": "stdout",
     "output_type": "stream",
     "text": [
      "[[0 1 2]\n",
      " [1 2 3]\n",
      " [2 3 4]]\n"
     ]
    }
   ],
   "source": [
    "Q = np.arange(3).reshape(1,3)\n",
    "R = np.arange(3).reshape(3,1)\n",
    "ite = np.nditer([Q,R,None])\n",
    "for a,b,c in ite: \n",
    "    c[...]=a+b\n",
    "print(ite.operands[2])"
   ]
  },
  {
   "cell_type": "markdown",
   "id": "526c4e8a",
   "metadata": {},
   "source": [
    "#### 63. Create an array class that has a name attribute (★★☆)"
   ]
  },
  {
   "cell_type": "code",
   "execution_count": 68,
   "id": "89e5d44c",
   "metadata": {},
   "outputs": [
    {
     "name": "stdout",
     "output_type": "stream",
     "text": [
      "range_10\n"
     ]
    }
   ],
   "source": [
    "class Name(np.ndarray):\n",
    "    def __new__(cls, array, name=\"no name\"):\n",
    "        A = np.asarray(array).view(cls)\n",
    "        A.name = name\n",
    "        return A\n",
    "    def __array_finalize__(self, A):\n",
    "        if A is None: return\n",
    "        self.info = getattr(A, 'name', \"no name\")\n",
    "\n",
    "C = Name(np.arange(10), \"range_10\")\n",
    "print (C.name)"
   ]
  },
  {
   "cell_type": "markdown",
   "id": "544aad6f",
   "metadata": {},
   "source": [
    "#### 64. Consider a given vector, how to add 1 to each element indexed by a second vector (be careful with repeated indices)? (★★★)"
   ]
  },
  {
   "cell_type": "code",
   "execution_count": 69,
   "id": "ee5153ce",
   "metadata": {},
   "outputs": [
    {
     "name": "stdout",
     "output_type": "stream",
     "text": [
      "[6. 3. 3. 4. 3. 3. 2. 2. 2. 2.]\n"
     ]
    }
   ],
   "source": [
    "O = np.ones(10)\n",
    "E = np.random.randint(0,len(O),20)\n",
    "#O+=np.bincount(E,minlength=len(O))\n",
    "np.add.at(O,E,1)\n",
    "print(O)"
   ]
  },
  {
   "cell_type": "markdown",
   "id": "14b42dc4",
   "metadata": {},
   "source": [
    "#### 65. How to accumulate elements of a vector (X) to an array (F) based on an index list (I)? (★★★)"
   ]
  },
  {
   "cell_type": "code",
   "execution_count": 70,
   "id": "4a486fe3",
   "metadata": {},
   "outputs": [
    {
     "data": {
      "text/plain": [
       "array([ 0.,  4.,  3.,  0.,  0., 14.,  5.,  7.])"
      ]
     },
     "execution_count": 70,
     "metadata": {},
     "output_type": "execute_result"
    }
   ],
   "source": [
    "R=[2,5,3,5,7,2,9]\n",
    "E=[1,5,2,6,7,1,5]\n",
    "V=np.bincount(E,R)\n",
    "V"
   ]
  },
  {
   "cell_type": "markdown",
   "id": "56779a1b",
   "metadata": {},
   "source": [
    "#### 66. Considering a (w,h,3) image of (dtype=ubyte), compute the number of unique colors (★★★)"
   ]
  },
  {
   "cell_type": "code",
   "execution_count": 71,
   "id": "af9e1014",
   "metadata": {},
   "outputs": [
    {
     "name": "stdout",
     "output_type": "stream",
     "text": [
      "8\n"
     ]
    }
   ],
   "source": [
    "w,h = 20,20\n",
    "R = np.random.randint(0,2,(h,w,3)).astype(np.ubyte)\n",
    "E = R[...,0]*(256*256) + R[...,1]*256 +R[...,2]\n",
    "V = len(np.unique(E))\n",
    "print(V)"
   ]
  },
  {
   "cell_type": "markdown",
   "id": "792d37c5",
   "metadata": {},
   "source": [
    "#### 67. Considering a four dimensions array, how to get sum over the last two axis at once? (★★★)"
   ]
  },
  {
   "cell_type": "code",
   "execution_count": 72,
   "id": "7ea1c6da",
   "metadata": {},
   "outputs": [
    {
     "data": {
      "text/plain": [
       "array([[40, 50, 34],\n",
       "       [28, 44, 45],\n",
       "       [34, 27, 41]])"
      ]
     },
     "execution_count": 72,
     "metadata": {},
     "output_type": "execute_result"
    }
   ],
   "source": [
    "q = np.random.randint(0,10,(3,3,3,3))\n",
    "Sum= q.sum(axis=(-2,-1))\n",
    "Sum"
   ]
  },
  {
   "cell_type": "markdown",
   "id": "b1fb1f07",
   "metadata": {},
   "source": [
    "#### 68. Considering a one-dimensional vector D, how to compute means of subsets of D using a vector S of same size describing subset indices? (★★★)"
   ]
  },
  {
   "cell_type": "code",
   "execution_count": 73,
   "id": "9d880f17",
   "metadata": {},
   "outputs": [
    {
     "name": "stdout",
     "output_type": "stream",
     "text": [
      "[0.34250932 0.36682665 0.33029992 0.59301608 0.48805886 0.62215759\n",
      " 0.40490632 0.47310807 0.50395661 0.53247172]\n"
     ]
    }
   ],
   "source": [
    "a = np.random.uniform(0,1,100)\n",
    "b = np.random.randint(0,10,100)\n",
    "Sum = np.bincount(b, weights=a)\n",
    "Count = np.bincount(b)\n",
    "mean = Sum / Count\n",
    "print(mean)\n"
   ]
  },
  {
   "cell_type": "markdown",
   "id": "ed4e1906",
   "metadata": {},
   "source": [
    "#### 69. How to get the diagonal of a dot product? (★★★)"
   ]
  },
  {
   "cell_type": "code",
   "execution_count": 74,
   "id": "1bb506f3",
   "metadata": {},
   "outputs": [
    {
     "data": {
      "text/plain": [
       "array([ 45, 174, 321])"
      ]
     },
     "execution_count": 74,
     "metadata": {},
     "output_type": "execute_result"
    }
   ],
   "source": [
    "a = np.arange(9).reshape(3,3)\n",
    "b = np.arange(10,19).reshape(3,3)\n",
    "dia = np.diag(np.dot(a,b))\n",
    "dia"
   ]
  },
  {
   "cell_type": "markdown",
   "id": "e24b613e",
   "metadata": {},
   "source": [
    "#### 70. Consider the vector [1, 2, 3, 4, 5], how to build a new vector with 3 consecutive zeros interleaved between each value? (★★★)"
   ]
  },
  {
   "cell_type": "code",
   "execution_count": 75,
   "id": "7fb8a4e7",
   "metadata": {},
   "outputs": [
    {
     "name": "stdout",
     "output_type": "stream",
     "text": [
      "[1. 0. 0. 0. 2. 0. 0. 0. 3. 0. 0. 0. 4. 0. 0. 0. 5.]\n"
     ]
    }
   ],
   "source": [
    "s = np.array([1,2,3,4,5])\n",
    "n = 3\n",
    "st = np.zeros(len(s) + (len(s)-1)*n)\n",
    "st[::n+1] = s\n",
    "print(st)"
   ]
  },
  {
   "cell_type": "markdown",
   "id": "023db5c3",
   "metadata": {},
   "source": [
    "#### 71. Consider an array of dimension (5,5,3), how to mulitply it by an array with dimensions (5,5)? (★★★)"
   ]
  },
  {
   "cell_type": "code",
   "execution_count": 76,
   "id": "ac19dd0b",
   "metadata": {},
   "outputs": [
    {
     "name": "stdout",
     "output_type": "stream",
     "text": [
      "[[[3. 3. 3.]\n",
      "  [3. 3. 3.]\n",
      "  [3. 3. 3.]\n",
      "  [3. 3. 3.]\n",
      "  [3. 3. 3.]]\n",
      "\n",
      " [[3. 3. 3.]\n",
      "  [3. 3. 3.]\n",
      "  [3. 3. 3.]\n",
      "  [3. 3. 3.]\n",
      "  [3. 3. 3.]]\n",
      "\n",
      " [[3. 3. 3.]\n",
      "  [3. 3. 3.]\n",
      "  [3. 3. 3.]\n",
      "  [3. 3. 3.]\n",
      "  [3. 3. 3.]]\n",
      "\n",
      " [[3. 3. 3.]\n",
      "  [3. 3. 3.]\n",
      "  [3. 3. 3.]\n",
      "  [3. 3. 3.]\n",
      "  [3. 3. 3.]]\n",
      "\n",
      " [[3. 3. 3.]\n",
      "  [3. 3. 3.]\n",
      "  [3. 3. 3.]\n",
      "  [3. 3. 3.]\n",
      "  [3. 3. 3.]]]\n"
     ]
    }
   ],
   "source": [
    "w = np.ones((5,5,3))\n",
    "x = 3*np.ones((5,5))\n",
    "print(w * x[:,:,None])"
   ]
  },
  {
   "cell_type": "markdown",
   "id": "7c97be1a",
   "metadata": {},
   "source": [
    "#### 72. How to swap two rows of an array? (★★★)"
   ]
  },
  {
   "cell_type": "code",
   "execution_count": 77,
   "id": "cb59c5e7",
   "metadata": {},
   "outputs": [
    {
     "name": "stdout",
     "output_type": "stream",
     "text": [
      "[[ 5  6  7  8  9]\n",
      " [ 0  1  2  3  4]\n",
      " [10 11 12 13 14]\n",
      " [15 16 17 18 19]\n",
      " [20 21 22 23 24]]\n"
     ]
    }
   ],
   "source": [
    "p = np.arange(25).reshape(5,5)\n",
    "p[[0,1]] = p[[1,0]]\n",
    "print(p)"
   ]
  },
  {
   "cell_type": "markdown",
   "id": "68265600",
   "metadata": {},
   "source": [
    "#### 73. Consider a set of 10 triplets describing 10 triangles (with shared vertices), find the set of unique line segments composing all the triangles (★★★)"
   ]
  },
  {
   "cell_type": "code",
   "execution_count": 78,
   "id": "1431dce3",
   "metadata": {},
   "outputs": [
    {
     "data": {
      "text/plain": [
       "array([( 3, 73), ( 3, 81), (14, 24), (14, 90), (16, 52), (16, 60),\n",
       "       (21, 53), (21, 66), (22, 40), (22, 55), (24, 33), (24, 90),\n",
       "       (24, 91), (26, 70), (26, 76), (33, 91), (35, 94), (35, 95),\n",
       "       (38, 66), (38, 81), (40, 55), (52, 60), (52, 77), (52, 82),\n",
       "       (53, 66), (66, 81), (70, 76), (73, 81), (77, 82), (94, 95)],\n",
       "      dtype=[('p0', '<i4'), ('p1', '<i4')])"
      ]
     },
     "execution_count": 78,
     "metadata": {},
     "output_type": "execute_result"
    }
   ],
   "source": [
    "faces = np.random.randint(0,100,(10,3))\n",
    "F = np.roll(faces.repeat(2,axis=1),-1,axis=1)\n",
    "F = F.reshape(len(F)*3,2)\n",
    "F = np.sort(F,axis=1)\n",
    "G = F.view( dtype=[('p0',F.dtype),('p1',F.dtype)] )\n",
    "G = np.unique(G)\n",
    "G"
   ]
  },
  {
   "cell_type": "markdown",
   "id": "481b8f77",
   "metadata": {},
   "source": [
    "#### 74. Given an array C that is a bincount, how to produce an array A such that np.bincount(A) == C? (★★★)"
   ]
  },
  {
   "cell_type": "code",
   "execution_count": 79,
   "id": "47b86f73",
   "metadata": {},
   "outputs": [
    {
     "name": "stdout",
     "output_type": "stream",
     "text": [
      "[1 1 2 3 4 4 6]\n"
     ]
    }
   ],
   "source": [
    "C = np.bincount([1,1,2,3,4,4,6])\n",
    "A = np.repeat(np.arange(len(C)), C)\n",
    "print(A)\n"
   ]
  },
  {
   "cell_type": "markdown",
   "id": "3538a494",
   "metadata": {},
   "source": [
    "#### 75. How to compute averages using a sliding window over an array? (★★★)"
   ]
  },
  {
   "cell_type": "code",
   "execution_count": null,
   "id": "4315d289",
   "metadata": {},
   "outputs": [],
   "source": []
  },
  {
   "cell_type": "markdown",
   "id": "cb559541",
   "metadata": {},
   "source": [
    "#### 76. Consider a one-dimensional array Z, build a two-dimensional array whose first row is (Z[0],Z[1],Z[2]) and each subsequent row is shifted by 1 (last row should be (Z[-3],Z[-2],Z[-1]) (★★★)"
   ]
  },
  {
   "cell_type": "code",
   "execution_count": null,
   "id": "20788c26",
   "metadata": {},
   "outputs": [],
   "source": []
  },
  {
   "cell_type": "markdown",
   "id": "9cd65860",
   "metadata": {},
   "source": [
    "#### 77. How to negate a boolean, or to change the sign of a float inplace? (★★★)"
   ]
  },
  {
   "cell_type": "code",
   "execution_count": 80,
   "id": "9c1e7752",
   "metadata": {},
   "outputs": [
    {
     "data": {
      "text/plain": [
       "array([ 0.6920018 ,  0.66019544, -0.90785059,  0.91689417, -0.12089676,\n",
       "        1.94255339,  0.98879991,  1.35907674,  0.44259721,  1.75806133,\n",
       "       -0.68819124, -0.34689655,  1.64255665,  1.58613672,  0.99940913,\n",
       "        0.90584352, -1.18638337,  1.14941194, -1.75165447,  1.79482056,\n",
       "        0.44568786, -0.0502694 , -0.78570393,  1.0853235 , -1.29706908,\n",
       "        0.24817037, -1.03028863,  0.2096781 ,  1.49099571, -0.33633019,\n",
       "        1.80180595,  0.50487993, -1.7386103 , -0.67455284, -1.61946525,\n",
       "        0.44244556,  1.54403181,  0.06999119,  0.85134603, -1.97430224,\n",
       "        1.69577578,  1.75252242, -0.18873909,  1.15668268, -0.81475091,\n",
       "       -0.46712277,  1.29555991, -0.19757283, -0.61365199,  1.90061386,\n",
       "       -1.34443878,  1.46806659,  1.97323736, -0.34960424,  0.8016245 ,\n",
       "        1.2921993 , -0.19695306,  1.165876  ,  0.0822835 ,  1.70193571,\n",
       "        0.72458324, -0.12875949, -0.97829818, -1.5371144 , -0.14872459,\n",
       "        0.63254989, -1.32807589,  1.72943228, -1.61869928, -1.52985262,\n",
       "        0.87949842,  1.4157925 , -0.92032393,  1.98559026, -1.58898369,\n",
       "       -0.14094863, -1.47373176, -0.22468311, -0.36542382,  1.30187372,\n",
       "        0.38460252,  0.21215155, -1.89003438,  1.32263748,  1.78386732,\n",
       "       -0.22684327, -0.00692437, -0.67630132, -1.6030009 ,  0.75971205,\n",
       "       -0.89219127,  1.35927052,  1.30529617, -1.14321803,  1.10917151,\n",
       "       -0.79726064,  0.46326579,  0.86397577,  1.8458111 , -0.57782194])"
      ]
     },
     "execution_count": 80,
     "metadata": {},
     "output_type": "execute_result"
    }
   ],
   "source": [
    "N = np.random.randint(0,2,100)\n",
    "np.logical_not(N, out=N)\n",
    "\n",
    "N = np.random.uniform(-2.0,2.0,100)\n",
    "np.negative(N, out=N)\n"
   ]
  },
  {
   "cell_type": "markdown",
   "id": "8000431a",
   "metadata": {},
   "source": [
    "#### 78. Consider 2 sets of points P0,P1 describing lines (2d) and a point p, how to compute distance from p to each line i (P0[i],P1[i])? (★★★)"
   ]
  },
  {
   "cell_type": "code",
   "execution_count": null,
   "id": "6cae33ef",
   "metadata": {},
   "outputs": [],
   "source": []
  },
  {
   "cell_type": "markdown",
   "id": "84dcdb1f",
   "metadata": {},
   "source": [
    "#### 79. Consider 2 sets of points P0,P1 describing lines (2d) and a set of points P, how to compute distance from each point j (P[j]) to each line i (P0[i],P1[i])? (★★★)"
   ]
  },
  {
   "cell_type": "code",
   "execution_count": null,
   "id": "479d41d9",
   "metadata": {},
   "outputs": [],
   "source": []
  },
  {
   "cell_type": "markdown",
   "id": "89a7f993",
   "metadata": {},
   "source": [
    "#### 80. Consider an arbitrary array, write a function that extract a subpart with a fixed shape and centered on a given element (pad with a fill value when necessary) (★★★)"
   ]
  },
  {
   "cell_type": "code",
   "execution_count": null,
   "id": "9bacfdf4",
   "metadata": {},
   "outputs": [],
   "source": []
  },
  {
   "cell_type": "markdown",
   "id": "78c352f7",
   "metadata": {},
   "source": [
    "#### 81. Consider an array Z = [1,2,3,4,5,6,7,8,9,10,11,12,13,14], how to generate an array R = [[1,2,3,4], [2,3,4,5], [3,4,5,6], ..., [11,12,13,14]]? (★★★)"
   ]
  },
  {
   "cell_type": "code",
   "execution_count": null,
   "id": "3248387a",
   "metadata": {},
   "outputs": [],
   "source": []
  },
  {
   "cell_type": "markdown",
   "id": "f127cfc5",
   "metadata": {},
   "source": [
    "#### 82. Compute a matrix rank (★★★)"
   ]
  },
  {
   "cell_type": "code",
   "execution_count": 81,
   "id": "12781f54",
   "metadata": {},
   "outputs": [
    {
     "name": "stdout",
     "output_type": "stream",
     "text": [
      "13\n"
     ]
    }
   ],
   "source": [
    "A = np.random.uniform(0,1,(13,15))\n",
    "x, y, z = np.linalg.svd(A) \n",
    "rank = np.sum(y > 1e-10)\n",
    "print(rank)"
   ]
  },
  {
   "cell_type": "markdown",
   "id": "969c48c9",
   "metadata": {},
   "source": [
    "#### 83. How to find the most frequent value in an array?"
   ]
  },
  {
   "cell_type": "code",
   "execution_count": 82,
   "id": "5a047881",
   "metadata": {},
   "outputs": [
    {
     "name": "stdout",
     "output_type": "stream",
     "text": [
      "3\n"
     ]
    }
   ],
   "source": [
    "A = np.random.randint(0,30,75)\n",
    "print(np.bincount(A).argmax())"
   ]
  },
  {
   "cell_type": "markdown",
   "id": "bc8cbadd",
   "metadata": {},
   "source": [
    "#### 84. Extract all the contiguous 3x3 blocks from a random 10x10 matrix (★★★)"
   ]
  },
  {
   "cell_type": "code",
   "execution_count": null,
   "id": "d8c1a9ad",
   "metadata": {},
   "outputs": [],
   "source": []
  },
  {
   "cell_type": "markdown",
   "id": "bd2ca03f",
   "metadata": {},
   "source": [
    "#### 85. Create a 2D array subclass such that Z[i,j] == Z[j,i] (★★★)"
   ]
  },
  {
   "cell_type": "code",
   "execution_count": null,
   "id": "74897818",
   "metadata": {},
   "outputs": [],
   "source": []
  },
  {
   "cell_type": "markdown",
   "id": "47b01018",
   "metadata": {},
   "source": [
    "#### 86. Consider a set of p matrices wich shape (n,n) and a set of p vectors with shape (n,1). How to compute the sum of of the p matrix products at once? (result has shape (n,1)) (★★★)"
   ]
  },
  {
   "cell_type": "code",
   "execution_count": 83,
   "id": "08baacd7",
   "metadata": {},
   "outputs": [
    {
     "name": "stdout",
     "output_type": "stream",
     "text": [
      "[[200.]\n",
      " [200.]\n",
      " [200.]\n",
      " [200.]\n",
      " [200.]\n",
      " [200.]\n",
      " [200.]\n",
      " [200.]\n",
      " [200.]\n",
      " [200.]\n",
      " [200.]\n",
      " [200.]\n",
      " [200.]\n",
      " [200.]\n",
      " [200.]\n",
      " [200.]\n",
      " [200.]\n",
      " [200.]\n",
      " [200.]\n",
      " [200.]]\n"
     ]
    }
   ],
   "source": [
    "w, x = 10, 20\n",
    "q = np.ones((w,x,x))\n",
    "r = np.ones((w,x,1))\n",
    "s = np.tensordot(q, r, axes=[[0, 2], [0, 1]])\n",
    "print(s)"
   ]
  },
  {
   "cell_type": "markdown",
   "id": "ff63a2a9",
   "metadata": {},
   "source": [
    "#### 87. Consider a 16x16 array, how to get the block-sum (block size is 4x4)? (★★★)¶"
   ]
  },
  {
   "cell_type": "code",
   "execution_count": 84,
   "id": "33e11bcd",
   "metadata": {},
   "outputs": [
    {
     "name": "stdout",
     "output_type": "stream",
     "text": [
      "[[16. 16. 16. 16.]\n",
      " [16. 16. 16. 16.]\n",
      " [16. 16. 16. 16.]\n",
      " [16. 16. 16. 16.]]\n"
     ]
    }
   ],
   "source": [
    "q = np.ones((16,16))\n",
    "r = 4\n",
    "s = np.add.reduceat(np.add.reduceat(q, np.arange(0, q.shape[0], r), axis=0),\n",
    "                                       np.arange(0, q.shape[1], r), axis=1)\n",
    "print(s)\n"
   ]
  },
  {
   "cell_type": "markdown",
   "id": "8d98b2d8",
   "metadata": {},
   "source": [
    "#### 88. How to implement the Game of Life using numpy arrays? (★★★)"
   ]
  },
  {
   "cell_type": "markdown",
   "id": "8332d6f3",
   "metadata": {},
   "source": [
    "#### 89. How to get the n largest values of an array (★★★)"
   ]
  },
  {
   "cell_type": "code",
   "execution_count": 85,
   "id": "62d72eb0",
   "metadata": {},
   "outputs": [
    {
     "name": "stdout",
     "output_type": "stream",
     "text": [
      "[9995 9996 9997 9998 9999]\n"
     ]
    }
   ],
   "source": [
    "A = np.arange(10000)\n",
    "np.random.shuffle(A)\n",
    "n = 5\n",
    "print (A[np.argsort(A)[-n:]])"
   ]
  },
  {
   "cell_type": "markdown",
   "id": "0773923e",
   "metadata": {},
   "source": [
    "#### 90. Given an arbitrary number of vectors, build the cartesian product (every combinations of every item) (★★★)"
   ]
  },
  {
   "cell_type": "code",
   "execution_count": null,
   "id": "8be030f9",
   "metadata": {},
   "outputs": [],
   "source": []
  },
  {
   "cell_type": "markdown",
   "id": "0af82c3f",
   "metadata": {},
   "source": [
    "#### 91. How to create a record array from a regular array? (★★★)"
   ]
  },
  {
   "cell_type": "code",
   "execution_count": 86,
   "id": "cd84bdc1",
   "metadata": {},
   "outputs": [
    {
     "name": "stdout",
     "output_type": "stream",
     "text": [
      "[(b'Raj', 5.5, 1) (b'Ramesh', 3.9, 2)]\n"
     ]
    }
   ],
   "source": [
    "A = np.array([(\"Raj\", 5.5, 1),\n",
    "              (\"Ramesh\", 3.9, 2)])\n",
    "B = np.core.records.fromarrays(A.T, \n",
    "                               names='col1, col2, col3',\n",
    "                               formats = 'S8, f8, i8')\n",
    "print(B)"
   ]
  },
  {
   "cell_type": "markdown",
   "id": "fbcf530f",
   "metadata": {},
   "source": [
    "#### 92. Consider a large vector Z, compute Z to the power of 3 using 3 different methods (★★★)"
   ]
  },
  {
   "cell_type": "code",
   "execution_count": 87,
   "id": "bdf1095d",
   "metadata": {},
   "outputs": [
    {
     "name": "stdout",
     "output_type": "stream",
     "text": [
      "4.52 µs ± 505 ns per loop (mean ± std. dev. of 7 runs, 100,000 loops each)\n",
      "1.65 µs ± 338 ns per loop (mean ± std. dev. of 7 runs, 100,000 loops each)\n",
      "4.14 µs ± 386 ns per loop (mean ± std. dev. of 7 runs, 100,000 loops each)\n"
     ]
    }
   ],
   "source": [
    "x = np.random.rand(57)\n",
    "%timeit np.power(x,3)\n",
    "%timeit x*x*x\n",
    "%timeit np.einsum('i,i,i->i',x,x,x)"
   ]
  },
  {
   "cell_type": "markdown",
   "id": "5f42cd43",
   "metadata": {},
   "source": [
    "#### 93. Consider two arrays A and B of shape (8,3) and (2,2). How to find rows of A that contain elements of each row of B regardless of the order of the elements in B? (★★★)"
   ]
  },
  {
   "cell_type": "code",
   "execution_count": 88,
   "id": "ac841cdf",
   "metadata": {},
   "outputs": [
    {
     "name": "stdout",
     "output_type": "stream",
     "text": [
      "[0 3]\n"
     ]
    }
   ],
   "source": [
    "s = np.random.randint(0,10,(8,3))\n",
    "t = np.random.randint(0,10,(2,2))\n",
    "\n",
    "A = (s[..., np.newaxis, np.newaxis] == t)\n",
    "rows = np.where(A.any((3,1)).all(1))[0]\n",
    "print(rows)\n"
   ]
  },
  {
   "cell_type": "markdown",
   "id": "9e60747a",
   "metadata": {},
   "source": [
    "#### 94. Considering a 10x3 matrix, extract rows with unequal values (e.g. [2,2,3]) (★★★)¶\n"
   ]
  },
  {
   "cell_type": "code",
   "execution_count": 89,
   "id": "fbcc3529",
   "metadata": {},
   "outputs": [
    {
     "name": "stdout",
     "output_type": "stream",
     "text": [
      "[[3 1 3]\n",
      " [4 4 4]\n",
      " [1 0 4]\n",
      " [0 4 1]\n",
      " [3 2 3]\n",
      " [4 0 0]\n",
      " [3 0 3]\n",
      " [4 3 4]\n",
      " [1 3 3]\n",
      " [3 1 3]]\n",
      "[[3 1 3]\n",
      " [1 0 4]\n",
      " [0 4 1]\n",
      " [3 2 3]\n",
      " [4 0 0]\n",
      " [3 0 3]\n",
      " [4 3 4]\n",
      " [1 3 3]\n",
      " [3 1 3]]\n"
     ]
    }
   ],
   "source": [
    "R= np.random.randint(0,5,(10,3))\n",
    "print(R)\n",
    "E = np.all(R[:,1:] == R[:,:-1], axis=1)\n",
    "V = R[~E]\n",
    "print(V)\n"
   ]
  },
  {
   "cell_type": "markdown",
   "id": "797e6864",
   "metadata": {},
   "source": [
    "#### 95. Convert a vector of ints into a matrix binary representation (★★★)¶\n"
   ]
  },
  {
   "cell_type": "code",
   "execution_count": 90,
   "id": "70f05cb1",
   "metadata": {},
   "outputs": [
    {
     "name": "stdout",
     "output_type": "stream",
     "text": [
      "[[0 0 0 0 0 0 0 0]\n",
      " [0 0 0 0 0 0 0 1]\n",
      " [0 0 0 0 0 0 1 0]\n",
      " [0 0 0 0 0 0 1 1]\n",
      " [0 0 0 0 1 1 1 1]\n",
      " [0 0 0 1 0 0 0 0]\n",
      " [0 0 1 0 0 0 0 0]\n",
      " [0 1 0 0 0 0 0 0]\n",
      " [1 0 0 0 0 0 0 0]]\n"
     ]
    }
   ],
   "source": [
    "A = np.array([0, 1, 2, 3, 15, 16, 32, 64, 128], dtype=np.uint8)\n",
    "print(np.unpackbits(A[:, np.newaxis], axis=1))"
   ]
  },
  {
   "cell_type": "markdown",
   "id": "178926fc",
   "metadata": {},
   "source": [
    "#### 96. Given a two dimensional array, how to extract unique rows? (★★★)\n"
   ]
  },
  {
   "cell_type": "code",
   "execution_count": 91,
   "id": "33f47ce7",
   "metadata": {},
   "outputs": [
    {
     "data": {
      "text/plain": [
       "array([[1, 9, 1, 6, 8, 2],\n",
       "       [5, 7, 2, 1, 3, 5],\n",
       "       [7, 8, 3, 6, 2, 6],\n",
       "       [8, 8, 0, 4, 7, 5],\n",
       "       [8, 9, 4, 9, 4, 3],\n",
       "       [9, 5, 3, 9, 8, 5]])"
      ]
     },
     "execution_count": 91,
     "metadata": {},
     "output_type": "execute_result"
    }
   ],
   "source": [
    "Z = np.random.randint(0,10,(6,6))\n",
    "u = np.unique(Z, axis=0)\n",
    "u"
   ]
  },
  {
   "cell_type": "markdown",
   "id": "cac5111d",
   "metadata": {},
   "source": [
    "#### 97. Considering 2 vectors A & B, write the einsum equivalent of inner, outer, sum, and mul function (★★★)¶\n"
   ]
  },
  {
   "cell_type": "code",
   "execution_count": null,
   "id": "ef5e05e3",
   "metadata": {},
   "outputs": [],
   "source": []
  },
  {
   "cell_type": "markdown",
   "id": "c8c48ca1",
   "metadata": {},
   "source": [
    "#### 98. Considering a path described by two vectors (X,Y), how to sample it using equidistant samples (★★★)?¶\n"
   ]
  },
  {
   "cell_type": "code",
   "execution_count": null,
   "id": "42422753",
   "metadata": {},
   "outputs": [],
   "source": []
  },
  {
   "cell_type": "markdown",
   "id": "e24f2336",
   "metadata": {},
   "source": [
    "#### 99. Given an integer n and a 2D array X, select from X the rows which can be interpreted as draws from a multinomial distribution with n degrees, i.e., the rows which only contain integers and which sum to n. (★★★)¶\n"
   ]
  },
  {
   "cell_type": "code",
   "execution_count": null,
   "id": "3c20090a",
   "metadata": {},
   "outputs": [],
   "source": []
  },
  {
   "cell_type": "markdown",
   "id": "83d60203",
   "metadata": {},
   "source": [
    "#### 100. Compute bootstrapped 95% confidence intervals for the mean of a 1D array X (i.e., resample the elements of an array with replacement N times, compute the mean of each sample, and then compute percentiles over the means). (★★★)¶\n"
   ]
  },
  {
   "cell_type": "code",
   "execution_count": null,
   "id": "0adf7f9b",
   "metadata": {},
   "outputs": [],
   "source": []
  }
 ],
 "metadata": {
  "kernelspec": {
   "display_name": "Python 3 (ipykernel)",
   "language": "python",
   "name": "python3"
  },
  "language_info": {
   "codemirror_mode": {
    "name": "ipython",
    "version": 3
   },
   "file_extension": ".py",
   "mimetype": "text/x-python",
   "name": "python",
   "nbconvert_exporter": "python",
   "pygments_lexer": "ipython3",
   "version": "3.10.7"
  }
 },
 "nbformat": 4,
 "nbformat_minor": 5
}
